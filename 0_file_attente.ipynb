{
 "cells": [
  {
   "cell_type": "markdown",
   "metadata": {},
   "source": [
    "# File d'attente"
   ]
  },
  {
   "cell_type": "code",
   "execution_count": 1,
   "metadata": {},
   "outputs": [],
   "source": [
    "import random\n",
    "from math import log, exp\n",
    "import pandas as pd\n",
    "import matplotlib.pyplot as plt\n",
    "import numpy as np\n",
    "from scipy import stats\n",
    "from scipy.stats import linregress\n",
    "import seaborn as sns\n",
    "import itertools\n",
    "from tqdm.notebook import trange, tqdm\n",
    "from p_tqdm import p_map\n",
    "import time\n",
    "from tools import PDF\n",
    "pdf = PDF(\"img/0_file_attente/\")\n",
    "import time\n",
    "t = time.time()"
   ]
  },
  {
   "cell_type": "code",
   "execution_count": 2,
   "metadata": {},
   "outputs": [
    {
     "name": "stdout",
     "output_type": "stream",
     "text": [
      "CPU count : 56\n",
      "Multiprocessing available : True\n"
     ]
    }
   ],
   "source": [
    "import os\n",
    "import platform\n",
    "CPU_COUNT = os.cpu_count()\n",
    "LOW_CPU = False\n",
    "if CPU_COUNT < 56:\n",
    "    LOW_CPU = True\n",
    "MULTIPROCESSING = True\n",
    "if platform.system() == 'Windows':\n",
    "    MULTIPROCESSING = False\n",
    "print(f\"CPU count : {CPU_COUNT}\")\n",
    "print(f\"Multiprocessing available : {MULTIPROCESSING}\")"
   ]
  },
  {
   "cell_type": "markdown",
   "metadata": {},
   "source": [
    "## Question 1"
   ]
  },
  {
   "cell_type": "markdown",
   "metadata": {},
   "source": [
    "### Générateur d'une loi exponentielle par méthode d'inversion\n",
    "\n",
    "$X \\sim Exp(\\lambda), \\lambda > 0$\n",
    "\n",
    "$ \\Rightarrow F_X(t) = 1 - e^{-\\lambda t}$\n",
    "\n",
    "donc $u = 1 - e^{-\\lambda t} \\ \\Leftrightarrow \\ t = - \\frac{ln(1-u)}{\\lambda} = F_X^{-1}(u)$"
   ]
  },
  {
   "cell_type": "code",
   "execution_count": 3,
   "metadata": {},
   "outputs": [],
   "source": [
    "def exp_gen(lambda_, u=None):\n",
    "    if u is None:\n",
    "        u=random.random()\n",
    "    return - log(1-u) / lambda_"
   ]
  },
  {
   "cell_type": "code",
   "execution_count": 4,
   "metadata": {},
   "outputs": [
    {
     "data": {
      "text/plain": [
       "0.651281839665667"
      ]
     },
     "execution_count": 4,
     "metadata": {},
     "output_type": "execute_result"
    }
   ],
   "source": [
    "exp_gen(2)"
   ]
  },
  {
   "cell_type": "code",
   "execution_count": 5,
   "metadata": {},
   "outputs": [
    {
     "data": {
      "text/plain": [
       "0.34657359027997264"
      ]
     },
     "execution_count": 5,
     "metadata": {},
     "output_type": "execute_result"
    }
   ],
   "source": [
    "exp_gen(2, u=0.5)"
   ]
  },
  {
   "cell_type": "code",
   "execution_count": 6,
   "metadata": {},
   "outputs": [
    {
     "data": {
      "text/plain": [
       "0.34657359027997264"
      ]
     },
     "execution_count": 6,
     "metadata": {},
     "output_type": "execute_result"
    }
   ],
   "source": [
    "exp_gen(2, u=0.5)"
   ]
  },
  {
   "cell_type": "markdown",
   "metadata": {},
   "source": [
    "**Vérification**"
   ]
  },
  {
   "cell_type": "code",
   "execution_count": 7,
   "metadata": {},
   "outputs": [
    {
     "data": {
      "image/png": "[encoded data removed]",
      "text/plain": [
       "<Figure size 432x288 with 1 Axes>"
      ]
     },
     "metadata": {
      "needs_background": "light"
     },
     "output_type": "display_data"
    },
    {
     "name": "stdout",
     "output_type": "stream",
     "text": [
      "KstestResult(statistic=0.0028901193416019377, pvalue=0.3730739796734507)\n"
     ]
    }
   ],
   "source": [
    "liste = [exp_gen(1) for i in range(100000)]\n",
    "\n",
    "def test_exp(liste):\n",
    "    plt.hist(liste, density=True, bins=50)\n",
    "    sns.kdeplot(liste, label=\"KDE\")\n",
    "\n",
    "    xx = np.linspace(-1, +4, 10000)                                                   \n",
    "    yy = stats.expon.pdf(xx)\n",
    "    plt.plot(xx, yy, 'r', label=\"$\\mathcal{E}(\\lambda)$ distribution\")    \n",
    "    plt.legend()\n",
    "    plt.show()\n",
    "\n",
    "    print(stats.kstest(liste, 'expon'))\n",
    "\n",
    "test_exp(liste)"
   ]
  },
  {
   "cell_type": "markdown",
   "metadata": {},
   "source": [
    "### Simulation de la file d'attente\n",
    "\n",
    "On suppose qu'il y a 0 client à la date 0. On peut servir un seul client à la fois et pendant le temps de service d'un client, les autres clients doivent patienter (et d'autres peuvent arriver).\n",
    "\n",
    "On note $(A_n)_{n \\geq 0}$ la suite des dates d'arrivées des clients. On a en particulier $\\forall n \\geq 0, A_n \\leq A_{n+1}$.\n",
    "\n",
    "La suite $\\tau_n = A_{n+1} - A_n$ est une suite de variables aléatoires iid suivant une loi exponentielle de paramètre $\\lambda_1$.\n",
    "\n",
    "On note $(d_n)_{n \\geq 0}$ les durées de service de chaque client. $(d_n)_{n \\geq 0}$ est une suite de variables aléatoires iid suivant une loi exponentielle de paramètres $\\lambda_2$.\n",
    "\n",
    "On note enfin $(S_n)_{n \\geq 0}$ les dates de début de service de chaque client (c'est à dire sa date de prise en charge). Cette suite vérifie la relation de récurrence suivante :\n",
    " - $S_0 = A_0 $ : le premier client est servi dès son arrivée ;\n",
    " - $\\forall n \\geq 1, S_n = \\max(S_{n-1} + d_{n-1} , A_n)$ : un client est servi dès son arrivée s'il arrive après la fin de service du client précédent, sinon il doit attendre."
   ]
  },
  {
   "cell_type": "code",
   "execution_count": 8,
   "metadata": {},
   "outputs": [],
   "source": [
    "def file_attente(lambda1, lambda2, t, simplification=False, liste_dates_arrivée=None, liste_u=None):\n",
    "    \"\"\"\n",
    "    liste_dates_arrivées et liste_u : seulement pour les méthodes v1 et v2\n",
    "    \"\"\"\n",
    "    if liste_dates_arrivée is None:\n",
    "        # On simule d'abord toutes les arrivées des clients\n",
    "        liste_dates_arrivée = [exp_gen(lambda1)]\n",
    "        temps_nouveau_client = exp_gen(lambda1)\n",
    "        while liste_dates_arrivée[-1] + temps_nouveau_client <= t:\n",
    "            liste_dates_arrivée.append(liste_dates_arrivée[-1] + temps_nouveau_client)\n",
    "            temps_nouveau_client = exp_gen(lambda1)\n",
    "    \n",
    "    n_clients = len(liste_dates_arrivée)\n",
    "    \n",
    "    if liste_u is None:\n",
    "        # On simule les temps de service de chaque client\n",
    "        liste_temps_service = [exp_gen(lambda2) for _ in range(n_clients)]\n",
    "    else:\n",
    "        liste_temps_service = [exp_gen(lambda2, liste_u[i]) for i in range(n_clients)]\n",
    "    \n",
    "    # On calcule enfin les dates de début et de fin de service de chaque client\n",
    "    num_client = 0\n",
    "    date_arrivée = liste_dates_arrivée[num_client]\n",
    "    temps_service = liste_temps_service[num_client]\n",
    "    # Le premier client est servi dès son arrivée\n",
    "    date_début_service = date_arrivée\n",
    "    date_fin_service = date_début_service + temps_service\n",
    "    \n",
    "    liste_dates_début_service = [date_début_service]\n",
    "    liste_dates_fin_service = [date_fin_service]    \n",
    "    \n",
    "    while num_client < n_clients-1:\n",
    "        num_client += 1\n",
    "        date_arrivée = liste_dates_arrivée[num_client]\n",
    "        temps_service = liste_temps_service[num_client]\n",
    "        \n",
    "        if date_arrivée >= liste_dates_fin_service[-1]:\n",
    "            # Si le client arrive après la fin de service du client précédent,\n",
    "            # il est servi tout de suite\n",
    "            date_début_service = date_arrivée            \n",
    "            date_fin_service = date_début_service + temps_service\n",
    "        else:\n",
    "            # Sinon le client est servi à l'instant de la fin de service du client précédent\n",
    "            date_début_service = liste_dates_fin_service[-1]\n",
    "            date_fin_service = date_début_service + temps_service      \n",
    "\n",
    "        liste_dates_début_service.append(date_début_service)\n",
    "        liste_dates_fin_service.append(date_fin_service) \n",
    "        \n",
    "        if simplification and date_fin_service > t:\n",
    "            break\n",
    "\n",
    "    l = len(liste_dates_début_service)\n",
    "    if l < n_clients:\n",
    "        liste_dates_début_service += [None for i in range(n_clients - l)]\n",
    "        liste_dates_fin_service += [None for i in range(n_clients - l)]\n",
    "        \n",
    "    dico = {\"Date arrivée client\": liste_dates_arrivée, \n",
    "            \"Date début service\": liste_dates_début_service,\n",
    "            \"Temps service\": liste_temps_service,\n",
    "            \"Date fin service\": liste_dates_fin_service}\n",
    "    \n",
    "    return pd.DataFrame(dico)"
   ]
  },
  {
   "cell_type": "code",
   "execution_count": 9,
   "metadata": {},
   "outputs": [
    {
     "data": {
      "text/html": [
       "<div>\n",
       "<style scoped>\n",
       "    .dataframe tbody tr th:only-of-type {\n",
       "        vertical-align: middle;\n",
       "    }\n",
       "\n",
       "    .dataframe tbody tr th {\n",
       "        vertical-align: top;\n",
       "    }\n",
       "\n",
       "    .dataframe thead th {\n",
       "        text-align: right;\n",
       "    }\n",
       "</style>\n",
       "<table border=\"1\" class=\"dataframe\">\n",
       "  <thead>\n",
       "    <tr style=\"text-align: right;\">\n",
       "      <th></th>\n",
       "      <th>Date arrivée client</th>\n",
       "      <th>Date début service</th>\n",
       "      <th>Temps service</th>\n",
       "      <th>Date fin service</th>\n",
       "    </tr>\n",
       "  </thead>\n",
       "  <tbody>\n",
       "    <tr>\n",
       "      <th>0</th>\n",
       "      <td>0.154414</td>\n",
       "      <td>0.154414</td>\n",
       "      <td>1.257925</td>\n",
       "      <td>1.412338</td>\n",
       "    </tr>\n",
       "    <tr>\n",
       "      <th>1</th>\n",
       "      <td>0.155771</td>\n",
       "      <td>1.412338</td>\n",
       "      <td>2.556505</td>\n",
       "      <td>3.968843</td>\n",
       "    </tr>\n",
       "    <tr>\n",
       "      <th>2</th>\n",
       "      <td>0.499187</td>\n",
       "      <td>3.968843</td>\n",
       "      <td>0.033295</td>\n",
       "      <td>4.002139</td>\n",
       "    </tr>\n",
       "    <tr>\n",
       "      <th>3</th>\n",
       "      <td>0.772110</td>\n",
       "      <td>4.002139</td>\n",
       "      <td>1.251076</td>\n",
       "      <td>5.253215</td>\n",
       "    </tr>\n",
       "    <tr>\n",
       "      <th>4</th>\n",
       "      <td>1.605946</td>\n",
       "      <td>5.253215</td>\n",
       "      <td>0.448993</td>\n",
       "      <td>5.702207</td>\n",
       "    </tr>\n",
       "    <tr>\n",
       "      <th>5</th>\n",
       "      <td>2.284552</td>\n",
       "      <td>5.702207</td>\n",
       "      <td>0.234424</td>\n",
       "      <td>5.936631</td>\n",
       "    </tr>\n",
       "    <tr>\n",
       "      <th>6</th>\n",
       "      <td>2.542624</td>\n",
       "      <td>5.936631</td>\n",
       "      <td>0.221625</td>\n",
       "      <td>6.158256</td>\n",
       "    </tr>\n",
       "    <tr>\n",
       "      <th>7</th>\n",
       "      <td>3.871896</td>\n",
       "      <td>6.158256</td>\n",
       "      <td>1.574963</td>\n",
       "      <td>7.733218</td>\n",
       "    </tr>\n",
       "    <tr>\n",
       "      <th>8</th>\n",
       "      <td>4.953556</td>\n",
       "      <td>7.733218</td>\n",
       "      <td>0.160115</td>\n",
       "      <td>7.893333</td>\n",
       "    </tr>\n",
       "  </tbody>\n",
       "</table>\n",
       "</div>"
      ],
      "text/plain": [
       "   Date arrivée client  Date début service  Temps service  Date fin service\n",
       "0             0.154414            0.154414       1.257925          1.412338\n",
       "1             0.155771            1.412338       2.556505          3.968843\n",
       "2             0.499187            3.968843       0.033295          4.002139\n",
       "3             0.772110            4.002139       1.251076          5.253215\n",
       "4             1.605946            5.253215       0.448993          5.702207\n",
       "5             2.284552            5.702207       0.234424          5.936631\n",
       "6             2.542624            5.936631       0.221625          6.158256\n",
       "7             3.871896            6.158256       1.574963          7.733218\n",
       "8             4.953556            7.733218       0.160115          7.893333"
      ]
     },
     "execution_count": 9,
     "metadata": {},
     "output_type": "execute_result"
    }
   ],
   "source": [
    "data = file_attente(2, 1, 5)\n",
    "data"
   ]
  },
  {
   "cell_type": "markdown",
   "metadata": {},
   "source": [
    "`simplification` permet de réduire les calculs des dates de service en ne calculant que les dates inférieures à t :"
   ]
  },
  {
   "cell_type": "code",
   "execution_count": 10,
   "metadata": {},
   "outputs": [
    {
     "data": {
      "text/html": [
       "<div>\n",
       "<style scoped>\n",
       "    .dataframe tbody tr th:only-of-type {\n",
       "        vertical-align: middle;\n",
       "    }\n",
       "\n",
       "    .dataframe tbody tr th {\n",
       "        vertical-align: top;\n",
       "    }\n",
       "\n",
       "    .dataframe thead th {\n",
       "        text-align: right;\n",
       "    }\n",
       "</style>\n",
       "<table border=\"1\" class=\"dataframe\">\n",
       "  <thead>\n",
       "    <tr style=\"text-align: right;\">\n",
       "      <th></th>\n",
       "      <th>Date arrivée client</th>\n",
       "      <th>Date début service</th>\n",
       "      <th>Temps service</th>\n",
       "      <th>Date fin service</th>\n",
       "    </tr>\n",
       "  </thead>\n",
       "  <tbody>\n",
       "    <tr>\n",
       "      <th>0</th>\n",
       "      <td>0.303352</td>\n",
       "      <td>0.303352</td>\n",
       "      <td>0.571330</td>\n",
       "      <td>0.874683</td>\n",
       "    </tr>\n",
       "    <tr>\n",
       "      <th>1</th>\n",
       "      <td>0.516971</td>\n",
       "      <td>0.874683</td>\n",
       "      <td>0.269513</td>\n",
       "      <td>1.144195</td>\n",
       "    </tr>\n",
       "    <tr>\n",
       "      <th>2</th>\n",
       "      <td>0.886681</td>\n",
       "      <td>1.144195</td>\n",
       "      <td>0.567411</td>\n",
       "      <td>1.711606</td>\n",
       "    </tr>\n",
       "    <tr>\n",
       "      <th>3</th>\n",
       "      <td>1.290704</td>\n",
       "      <td>1.711606</td>\n",
       "      <td>0.168189</td>\n",
       "      <td>1.879795</td>\n",
       "    </tr>\n",
       "    <tr>\n",
       "      <th>4</th>\n",
       "      <td>2.311966</td>\n",
       "      <td>2.311966</td>\n",
       "      <td>0.740712</td>\n",
       "      <td>3.052678</td>\n",
       "    </tr>\n",
       "    <tr>\n",
       "      <th>5</th>\n",
       "      <td>2.516695</td>\n",
       "      <td>3.052678</td>\n",
       "      <td>0.102199</td>\n",
       "      <td>3.154877</td>\n",
       "    </tr>\n",
       "    <tr>\n",
       "      <th>6</th>\n",
       "      <td>3.033132</td>\n",
       "      <td>3.154877</td>\n",
       "      <td>0.270057</td>\n",
       "      <td>3.424935</td>\n",
       "    </tr>\n",
       "    <tr>\n",
       "      <th>7</th>\n",
       "      <td>3.338391</td>\n",
       "      <td>3.424935</td>\n",
       "      <td>0.684452</td>\n",
       "      <td>4.109387</td>\n",
       "    </tr>\n",
       "    <tr>\n",
       "      <th>8</th>\n",
       "      <td>3.708537</td>\n",
       "      <td>4.109387</td>\n",
       "      <td>0.812437</td>\n",
       "      <td>4.921824</td>\n",
       "    </tr>\n",
       "    <tr>\n",
       "      <th>9</th>\n",
       "      <td>3.786210</td>\n",
       "      <td>4.921824</td>\n",
       "      <td>0.006392</td>\n",
       "      <td>4.928216</td>\n",
       "    </tr>\n",
       "    <tr>\n",
       "      <th>10</th>\n",
       "      <td>4.097637</td>\n",
       "      <td>4.928216</td>\n",
       "      <td>0.497650</td>\n",
       "      <td>5.425866</td>\n",
       "    </tr>\n",
       "  </tbody>\n",
       "</table>\n",
       "</div>"
      ],
      "text/plain": [
       "    Date arrivée client  Date début service  Temps service  Date fin service\n",
       "0              0.303352            0.303352       0.571330          0.874683\n",
       "1              0.516971            0.874683       0.269513          1.144195\n",
       "2              0.886681            1.144195       0.567411          1.711606\n",
       "3              1.290704            1.711606       0.168189          1.879795\n",
       "4              2.311966            2.311966       0.740712          3.052678\n",
       "5              2.516695            3.052678       0.102199          3.154877\n",
       "6              3.033132            3.154877       0.270057          3.424935\n",
       "7              3.338391            3.424935       0.684452          4.109387\n",
       "8              3.708537            4.109387       0.812437          4.921824\n",
       "9              3.786210            4.921824       0.006392          4.928216\n",
       "10             4.097637            4.928216       0.497650          5.425866"
      ]
     },
     "execution_count": 10,
     "metadata": {},
     "output_type": "execute_result"
    }
   ],
   "source": [
    "file_attente(2, 1, 5, simplification=True)"
   ]
  },
  {
   "cell_type": "markdown",
   "metadata": {},
   "source": [
    "On cherche à présent à calculer le nombre de clients dans la file d'attente à chaque instant."
   ]
  },
  {
   "cell_type": "code",
   "execution_count": 11,
   "metadata": {},
   "outputs": [],
   "source": [
    "def search_t(X, t):\n",
    "    \"\"\"\n",
    "    Renvoie i tel que X[i] <= t et X[i+1] >= t\n",
    "    \"\"\"\n",
    "    if t in X:\n",
    "        return X.index(t)    \n",
    "    else:\n",
    "        xt = 0\n",
    "        while xt <= len(X)-2:\n",
    "            if X[xt+1] < t:\n",
    "                xt += 1\n",
    "            else:\n",
    "                return xt\n",
    "        return xt\n",
    "\n",
    "\n",
    "def nb_client_instant(data, n, t, plot=True, pdf=None):\n",
    "    \"\"\"\n",
    "    Renvoie True si dépassement du seuil n\n",
    "    False sinon\n",
    "    \"\"\"\n",
    "    X = [0]\n",
    "    Y = [0]\n",
    "    \n",
    "    liste_dates_arrivée = list(data[\"Date arrivée client\"])\n",
    "    liste_dates_départ = list(data[\"Date fin service\"])\n",
    "    \n",
    "    while len(liste_dates_arrivée) > 0 and len(liste_dates_départ) > 0:\n",
    "        date_arrivée = liste_dates_arrivée[0]\n",
    "        date_départ = liste_dates_départ[0]\n",
    "        \n",
    "        if date_arrivée <= date_départ:\n",
    "            date = liste_dates_arrivée.pop(0)\n",
    "            X.append(date)\n",
    "            Y.append(Y[-1] + 1)\n",
    "        else:\n",
    "            date = liste_dates_départ.pop(0)\n",
    "            X.append(date)\n",
    "            Y.append(Y[-1] - 1)\n",
    "    \n",
    "    while len(liste_dates_arrivée) > 0 :\n",
    "        date_arrivée = liste_dates_arrivée.pop(0)\n",
    "        X.append(date_arrivée)\n",
    "        Y.append(Y[-1] + 1)\n",
    "        \n",
    "    while len(liste_dates_départ) > 0 :\n",
    "        date_départ = liste_dates_départ.pop(0)\n",
    "        X.append(date_départ)\n",
    "        Y.append(Y[-1] - 1)\n",
    "    \n",
    "    xt = search_t(X,t)\n",
    "\n",
    "    if plot:\n",
    "        plt.scatter(X[1:xt+1],Y[1:xt+1])\n",
    "        plt.scatter(X[xt+1:],Y[xt+1:], c=\"#C2C2C2\")\n",
    "        for i in range(xt):\n",
    "            plt.hlines(Y[i], X[i], X[i+1])\n",
    "            plt.vlines(X[i+1], Y[i], Y[i+1])\n",
    "        if xt+1 < len(X):\n",
    "            plt.hlines(Y[xt], X[xt], X[xt+1])\n",
    "            plt.vlines(X[xt+1], Y[xt], Y[xt+1], color=\"#C2C2C2\")\n",
    "        for i in range(xt+1, len(X)-1):\n",
    "            plt.hlines(Y[i], X[i], X[i+1], color=\"#C2C2C2\")\n",
    "            plt.vlines(X[i+1], Y[i], Y[i+1], color=\"#C2C2C2\")\n",
    "        plt.axhline(n, c=\"r\", linestyle=\"--\", label=\"Seuil de clients\")\n",
    "        plt.axvline(t, c=\"g\", label=\"Date t\")\n",
    "        plt.legend()\n",
    "        plt.xlabel(\"Temps\")\n",
    "        plt.ylabel(\"Nombre de clients\")\n",
    "        if pdf is not None:\n",
    "            pdf.export()\n",
    "        plt.show()\n",
    "\n",
    "    if max(Y[:xt+1]) > n:\n",
    "        return True\n",
    "    else:\n",
    "        return False"
   ]
  },
  {
   "cell_type": "code",
   "execution_count": 12,
   "metadata": {},
   "outputs": [
    {
     "data": {
      "image/png": "[encoded data removed]",
      "text/plain": [
       "<Figure size 432x288 with 1 Axes>"
      ]
     },
     "metadata": {
      "needs_background": "light"
     },
     "output_type": "display_data"
    },
    {
     "data": {
      "text/plain": [
       "True"
      ]
     },
     "execution_count": 12,
     "metadata": {},
     "output_type": "execute_result"
    }
   ],
   "source": [
    "nb_client_instant(data, 2, 5)"
   ]
  },
  {
   "cell_type": "code",
   "execution_count": 13,
   "metadata": {},
   "outputs": [],
   "source": [
    "# # PDF\n",
    "# nb_client_instant(file_attente(0.2, 0.1, 50), 6, 50, pdf=pdf)"
   ]
  },
  {
   "cell_type": "code",
   "execution_count": 14,
   "metadata": {},
   "outputs": [],
   "source": [
    "def simulation(lambda1, lambda2, n, t, plot=False, simplification=True, liste_dates_arrivée=None, liste_u=None):\n",
    "    \"\"\"\n",
    "    Combine les fonctions file_attente et nb_client_instant\n",
    "    \"\"\"\n",
    "\n",
    "    data = file_attente(lambda1, lambda2, t, simplification=simplification, liste_dates_arrivée=liste_dates_arrivée, liste_u=liste_u)\n",
    "    return nb_client_instant(data, n, t, plot=plot)"
   ]
  },
  {
   "cell_type": "code",
   "execution_count": 15,
   "metadata": {},
   "outputs": [
    {
     "data": {
      "image/png": "[encoded data removed]",
      "text/plain": [
       "<Figure size 432x288 with 1 Axes>"
      ]
     },
     "metadata": {
      "needs_background": "light"
     },
     "output_type": "display_data"
    },
    {
     "data": {
      "text/plain": [
       "False"
      ]
     },
     "execution_count": 15,
     "metadata": {},
     "output_type": "execute_result"
    }
   ],
   "source": [
    "simulation(2, 0.5, 6, 5, plot=True, simplification=False)"
   ]
  },
  {
   "cell_type": "code",
   "execution_count": 16,
   "metadata": {},
   "outputs": [
    {
     "name": "stderr",
     "output_type": "stream",
     "text": [
      "/home/headless/anaconda3/envs/work/lib/python3.9/site-packages/numpy/core/_asarray.py:102: UserWarning: Warning: converting a masked element to nan.\n",
      "  return array(a, dtype, copy=False, order=order)\n"
     ]
    },
    {
     "data": {
      "image/png": "[encoded data removed]",
      "text/plain": [
       "<Figure size 432x288 with 1 Axes>"
      ]
     },
     "metadata": {
      "needs_background": "light"
     },
     "output_type": "display_data"
    },
    {
     "data": {
      "text/plain": [
       "False"
      ]
     },
     "execution_count": 16,
     "metadata": {},
     "output_type": "execute_result"
    }
   ],
   "source": [
    "simulation(2, 0.5, 6, 5, plot=True, simplification=True)"
   ]
  },
  {
   "cell_type": "code",
   "execution_count": 17,
   "metadata": {},
   "outputs": [
    {
     "data": {
      "image/png": "[encoded data removed]",
      "text/plain": [
       "<Figure size 432x288 with 1 Axes>"
      ]
     },
     "metadata": {
      "needs_background": "light"
     },
     "output_type": "display_data"
    },
    {
     "name": "stdout",
     "output_type": "stream",
     "text": [
      "True\n"
     ]
    },
    {
     "data": {
      "image/png": "[encoded data removed]",
      "text/plain": [
       "<Figure size 432x288 with 1 Axes>"
      ]
     },
     "metadata": {
      "needs_background": "light"
     },
     "output_type": "display_data"
    },
    {
     "name": "stdout",
     "output_type": "stream",
     "text": [
      "False\n"
     ]
    },
    {
     "data": {
      "image/png": "[encoded data removed]",
      "text/plain": [
       "<Figure size 432x288 with 1 Axes>"
      ]
     },
     "metadata": {
      "needs_background": "light"
     },
     "output_type": "display_data"
    },
    {
     "name": "stdout",
     "output_type": "stream",
     "text": [
      "True\n"
     ]
    },
    {
     "data": {
      "image/png": "[encoded data removed]",
      "text/plain": [
       "<Figure size 432x288 with 1 Axes>"
      ]
     },
     "metadata": {
      "needs_background": "light"
     },
     "output_type": "display_data"
    },
    {
     "name": "stdout",
     "output_type": "stream",
     "text": [
      "True\n"
     ]
    },
    {
     "data": {
      "image/png": "[encoded data removed]",
      "text/plain": [
       "<Figure size 432x288 with 1 Axes>"
      ]
     },
     "metadata": {
      "needs_background": "light"
     },
     "output_type": "display_data"
    },
    {
     "name": "stdout",
     "output_type": "stream",
     "text": [
      "True\n"
     ]
    }
   ],
   "source": [
    "for i in range(5):\n",
    "    print(simulation(2, 0.5, 6, 5, plot=True))"
   ]
  },
  {
   "cell_type": "markdown",
   "metadata": {},
   "source": [
    "### Estimation de la probabilité\n",
    "\n",
    "On souhaite calculer la probabilité que le nombre de clients dans la salle d'attente dépasse un certain seuil critique $n$ (entre le temps $0$ et le temps $t$).\n",
    "\n",
    "Notons $X$ le nombre maximum de clients dans la salle d'attente entre le temps $0$ et le temps $t$. Le code précédent effectue une simulation et renvoie l'indicatrice $\\mathbb{1} (X > n)$.\n",
    "\n",
    "On cherche à estimer $P(X>n) = \\mathbb{E}[\\mathbb{1} (X > n )]$. On utilise alors la moyenne empirique en réalisant un grand nombre de simulation (noté $N\\_simul$) :\n",
    "$$ \\mathbb{E}[\\mathbb{1} (X > n)] \\approx \\sum_{i=1}^{N\\_simul} \\mathbb{1} (X_i > n) $$\n",
    "\n",
    "\n"
   ]
  },
  {
   "cell_type": "code",
   "execution_count": 18,
   "metadata": {},
   "outputs": [],
   "source": [
    "def proba_N_simul_v0(lambda1, lambda2, n, t, N_simul, multiproc=False):\n",
    "    \"\"\"\n",
    "    Proba d'un dépassement du nombre de clients\n",
    "    \"\"\"\n",
    "    def f_(_):\n",
    "        return simulation(lambda1, lambda2, n, t)\n",
    "    if multiproc:\n",
    "        resultat = p_map(f_, [0]*N_simul)\n",
    "    else:\n",
    "        resultat = list(map(f_, [0]*N_simul))\n",
    "    return np.sum(resultat) / len(resultat)"
   ]
  },
  {
   "cell_type": "code",
   "execution_count": 19,
   "metadata": {},
   "outputs": [
    {
     "name": "stdout",
     "output_type": "stream",
     "text": [
      "CPU times: user 6.96 s, sys: 7.82 ms, total: 6.96 s\n",
      "Wall time: 6.95 s\n"
     ]
    },
    {
     "data": {
      "text/plain": [
       "0.6826"
      ]
     },
     "execution_count": 19,
     "metadata": {},
     "output_type": "execute_result"
    }
   ],
   "source": [
    "%%time\n",
    "proba_N_simul_v0(2, 0.5, 6, 5, N_simul=10000, multiproc=False)"
   ]
  },
  {
   "cell_type": "code",
   "execution_count": 20,
   "metadata": {},
   "outputs": [
    {
     "data": {
      "application/vnd.jupyter.widget-view+json": {
       "model_id": "4658f691de34432a8a427541a09ff406",
       "version_major": 2,
       "version_minor": 0
      },
      "text/plain": [
       "  0%|          | 0/10000 [00:00<?, ?it/s]"
      ]
     },
     "metadata": {},
     "output_type": "display_data"
    },
    {
     "name": "stdout",
     "output_type": "stream",
     "text": [
      "CPU times: user 5.43 s, sys: 879 ms, total: 6.31 s\n",
      "Wall time: 5.85 s\n"
     ]
    }
   ],
   "source": [
    "%%time\n",
    "if MULTIPROCESSING:\n",
    "    proba_N_simul_v0(2, 0.5, 6, 5, N_simul=10000, multiproc=True)"
   ]
  },
  {
   "cell_type": "markdown",
   "metadata": {},
   "source": [
    "### Influence des paramètres"
   ]
  },
  {
   "cell_type": "markdown",
   "metadata": {},
   "source": [
    "On calcule la proba sur de nombreuses combinaisons de paramètres."
   ]
  },
  {
   "cell_type": "code",
   "execution_count": 21,
   "metadata": {},
   "outputs": [],
   "source": [
    "def dico_proba(args):\n",
    "    (lambda1, lambda2, n, t) = args\n",
    "    return {\"lambda1\": lambda1,\n",
    "             \"lambda2\": lambda2,\n",
    "             \"n\": n,\n",
    "             \"t\": t,\n",
    "             \"proba\": proba_N_simul_v0(lambda1, lambda2, n, t, N_simul=500)}"
   ]
  },
  {
   "cell_type": "code",
   "execution_count": 22,
   "metadata": {},
   "outputs": [
    {
     "data": {
      "application/vnd.jupyter.widget-view+json": {
       "model_id": "722bab2c46ac476a9600130778526250",
       "version_major": 2,
       "version_minor": 0
      },
      "text/plain": [
       "  0%|          | 0/12000 [00:00<?, ?it/s]"
      ]
     },
     "metadata": {},
     "output_type": "display_data"
    },
    {
     "name": "stdout",
     "output_type": "stream",
     "text": [
      "CPU times: user 37.2 s, sys: 6.46 s, total: 43.6 s\n",
      "Wall time: 2min 58s\n"
     ]
    }
   ],
   "source": [
    "%%time\n",
    "\n",
    "LIST_LAMBDA1 = np.linspace(0.1, 10, 10)\n",
    "LIST_LAMBDA2 = np.linspace(0.1, 10, 10)\n",
    "LIST_n = np.arange(2, 50, 4)\n",
    "LIST_t = np.linspace(1, 20, 10)\n",
    "\n",
    "if LOW_CPU:\n",
    "    LIST_LAMBDA1 = np.linspace(0.1, 10, 5)\n",
    "    LIST_LAMBDA2 = np.linspace(0.1, 10, 5)\n",
    "    LIST_n = np.arange(2, 50, 8)\n",
    "    LIST_t = np.linspace(1, 20, 5)\n",
    "if not MULTIPROCESSING:\n",
    "    LIST_LAMBDA1 = np.linspace(0.1, 10, 4)\n",
    "    LIST_LAMBDA2 = np.linspace(0.1, 10, 4)\n",
    "    LIST_n = np.arange(2, 50, 12)\n",
    "    LIST_t = np.linspace(1, 20, 4)\n",
    "\n",
    "LISTE_args = list(itertools.product(LIST_LAMBDA1, LIST_LAMBDA2, LIST_n, LIST_t))\n",
    "\n",
    "if MULTIPROCESSING:\n",
    "    resul = p_map(dico_proba, LISTE_args)\n",
    "else:\n",
    "    resul = []\n",
    "    for args in tqdm(LISTE_args):\n",
    "        resul.append(dico_proba(args))\n",
    "\n",
    "df_resul = pd.DataFrame(resul)"
   ]
  },
  {
   "cell_type": "code",
   "execution_count": 23,
   "metadata": {},
   "outputs": [
    {
     "data": {
      "text/html": [
       "<div>\n",
       "<style scoped>\n",
       "    .dataframe tbody tr th:only-of-type {\n",
       "        vertical-align: middle;\n",
       "    }\n",
       "\n",
       "    .dataframe tbody tr th {\n",
       "        vertical-align: top;\n",
       "    }\n",
       "\n",
       "    .dataframe thead th {\n",
       "        text-align: right;\n",
       "    }\n",
       "</style>\n",
       "<table border=\"1\" class=\"dataframe\">\n",
       "  <thead>\n",
       "    <tr style=\"text-align: right;\">\n",
       "      <th></th>\n",
       "      <th>lambda1</th>\n",
       "      <th>lambda2</th>\n",
       "      <th>n</th>\n",
       "      <th>t</th>\n",
       "      <th>proba</th>\n",
       "    </tr>\n",
       "  </thead>\n",
       "  <tbody>\n",
       "    <tr>\n",
       "      <th>0</th>\n",
       "      <td>0.1</td>\n",
       "      <td>0.1</td>\n",
       "      <td>2</td>\n",
       "      <td>1.000000</td>\n",
       "      <td>0.000</td>\n",
       "    </tr>\n",
       "    <tr>\n",
       "      <th>1</th>\n",
       "      <td>0.1</td>\n",
       "      <td>0.1</td>\n",
       "      <td>2</td>\n",
       "      <td>3.111111</td>\n",
       "      <td>0.000</td>\n",
       "    </tr>\n",
       "    <tr>\n",
       "      <th>2</th>\n",
       "      <td>0.1</td>\n",
       "      <td>0.1</td>\n",
       "      <td>2</td>\n",
       "      <td>5.222222</td>\n",
       "      <td>0.010</td>\n",
       "    </tr>\n",
       "    <tr>\n",
       "      <th>3</th>\n",
       "      <td>0.1</td>\n",
       "      <td>0.1</td>\n",
       "      <td>2</td>\n",
       "      <td>7.333333</td>\n",
       "      <td>0.020</td>\n",
       "    </tr>\n",
       "    <tr>\n",
       "      <th>4</th>\n",
       "      <td>0.1</td>\n",
       "      <td>0.1</td>\n",
       "      <td>2</td>\n",
       "      <td>9.444444</td>\n",
       "      <td>0.048</td>\n",
       "    </tr>\n",
       "    <tr>\n",
       "      <th>...</th>\n",
       "      <td>...</td>\n",
       "      <td>...</td>\n",
       "      <td>...</td>\n",
       "      <td>...</td>\n",
       "      <td>...</td>\n",
       "    </tr>\n",
       "    <tr>\n",
       "      <th>11995</th>\n",
       "      <td>10.0</td>\n",
       "      <td>10.0</td>\n",
       "      <td>46</td>\n",
       "      <td>11.555556</td>\n",
       "      <td>0.006</td>\n",
       "    </tr>\n",
       "    <tr>\n",
       "      <th>11996</th>\n",
       "      <td>10.0</td>\n",
       "      <td>10.0</td>\n",
       "      <td>46</td>\n",
       "      <td>13.666667</td>\n",
       "      <td>0.010</td>\n",
       "    </tr>\n",
       "    <tr>\n",
       "      <th>11997</th>\n",
       "      <td>10.0</td>\n",
       "      <td>10.0</td>\n",
       "      <td>46</td>\n",
       "      <td>15.777778</td>\n",
       "      <td>0.010</td>\n",
       "    </tr>\n",
       "    <tr>\n",
       "      <th>11998</th>\n",
       "      <td>10.0</td>\n",
       "      <td>10.0</td>\n",
       "      <td>46</td>\n",
       "      <td>17.888889</td>\n",
       "      <td>0.026</td>\n",
       "    </tr>\n",
       "    <tr>\n",
       "      <th>11999</th>\n",
       "      <td>10.0</td>\n",
       "      <td>10.0</td>\n",
       "      <td>46</td>\n",
       "      <td>20.000000</td>\n",
       "      <td>0.028</td>\n",
       "    </tr>\n",
       "  </tbody>\n",
       "</table>\n",
       "<p>12000 rows × 5 columns</p>\n",
       "</div>"
      ],
      "text/plain": [
       "       lambda1  lambda2   n          t  proba\n",
       "0          0.1      0.1   2   1.000000  0.000\n",
       "1          0.1      0.1   2   3.111111  0.000\n",
       "2          0.1      0.1   2   5.222222  0.010\n",
       "3          0.1      0.1   2   7.333333  0.020\n",
       "4          0.1      0.1   2   9.444444  0.048\n",
       "...        ...      ...  ..        ...    ...\n",
       "11995     10.0     10.0  46  11.555556  0.006\n",
       "11996     10.0     10.0  46  13.666667  0.010\n",
       "11997     10.0     10.0  46  15.777778  0.010\n",
       "11998     10.0     10.0  46  17.888889  0.026\n",
       "11999     10.0     10.0  46  20.000000  0.028\n",
       "\n",
       "[12000 rows x 5 columns]"
      ]
     },
     "execution_count": 23,
     "metadata": {},
     "output_type": "execute_result"
    }
   ],
   "source": [
    "df_resul"
   ]
  },
  {
   "cell_type": "code",
   "execution_count": 24,
   "metadata": {},
   "outputs": [
    {
     "data": {
      "application/vnd.jupyter.widget-view+json": {
       "model_id": "fa502c7994f84619926443b1a2763819",
       "version_major": 2,
       "version_minor": 0
      },
      "text/plain": [
       "interactive(children=(SelectionSlider(description='lambda2', options=(('0.10', 0.1), ('1.20', 1.20000000000000…"
      ]
     },
     "metadata": {},
     "output_type": "display_data"
    },
    {
     "data": {
      "application/vnd.jupyter.widget-view+json": {
       "model_id": "ad34aa6338e143ffbbae34a17b294190",
       "version_major": 2,
       "version_minor": 0
      },
      "text/plain": [
       "interactive(children=(SelectionSlider(description='lambda1', options=(('0.10', 0.1), ('1.20', 1.20000000000000…"
      ]
     },
     "metadata": {},
     "output_type": "display_data"
    },
    {
     "data": {
      "application/vnd.jupyter.widget-view+json": {
       "model_id": "c83d011594894013927255503e9447d1",
       "version_major": 2,
       "version_minor": 0
      },
      "text/plain": [
       "interactive(children=(SelectionSlider(description='lambda1', options=(('0.10', 0.1), ('1.20', 1.20000000000000…"
      ]
     },
     "metadata": {},
     "output_type": "display_data"
    },
    {
     "data": {
      "application/vnd.jupyter.widget-view+json": {
       "model_id": "de6de23f255a4f639199fce84e874c5b",
       "version_major": 2,
       "version_minor": 0
      },
      "text/plain": [
       "interactive(children=(SelectionSlider(description='lambda1', options=(('0.10', 0.1), ('1.20', 1.20000000000000…"
      ]
     },
     "metadata": {},
     "output_type": "display_data"
    },
    {
     "data": {
      "text/plain": [
       "<function __main__.show_t(lambda1, lambda2, n)>"
      ]
     },
     "execution_count": 24,
     "metadata": {},
     "output_type": "execute_result"
    }
   ],
   "source": [
    "from ipywidgets import interact\n",
    "import ipywidgets as widgets\n",
    "\n",
    "def show_n(lambda1, lambda2, t):\n",
    "    df_resul_show = df_resul[(df_resul.lambda1==lambda1) & (df_resul.lambda2==lambda2) & (df_resul.t==t)]\n",
    "    plt.scatter(df_resul_show.n, df_resul_show.proba)\n",
    "    plt.ylabel(\"proba\")\n",
    "    plt.xlabel(\"n\")\n",
    "    plt.show()\n",
    "    return()\n",
    "\n",
    "def show_t(lambda1, lambda2, n):\n",
    "    df_resul_show = df_resul[(df_resul.lambda1==lambda1) & (df_resul.lambda2==lambda2) & (df_resul.n==n)]\n",
    "    plt.scatter(df_resul_show.t, df_resul_show.proba)\n",
    "    plt.ylabel(\"proba\")\n",
    "    plt.xlabel(\"t\")\n",
    "    plt.show()\n",
    "    return()\n",
    "\n",
    "def show_lambda1(lambda2, n, t):\n",
    "    df_resul_show = df_resul[(df_resul.lambda2==lambda2) & (df_resul.n==n) & (df_resul.t==t)]\n",
    "    plt.scatter(df_resul_show.lambda1, df_resul_show.proba)\n",
    "    plt.ylabel(\"proba\")\n",
    "    plt.xlabel(\"lambda1\")\n",
    "    plt.show()\n",
    "    return()\n",
    "\n",
    "def show_lambda2(lambda1, n, t):\n",
    "    df_resul_show = df_resul[(df_resul.lambda1==lambda1) & (df_resul.n==n) & (df_resul.t==t)]\n",
    "    plt.scatter(df_resul_show.lambda2, df_resul_show.proba)\n",
    "    plt.ylabel(\"proba\")\n",
    "    plt.xlabel(\"lambda2\")\n",
    "    plt.show()\n",
    "    return()\n",
    "\n",
    "w1 = widgets.SelectionSlider(\n",
    "    options=[(\"%.2f\"%i,i) for i in LIST_LAMBDA1]\n",
    ")\n",
    "w2 = widgets.SelectionSlider(\n",
    "    options=[(\"%.2f\"%i,i) for i in LIST_LAMBDA2]\n",
    ")\n",
    "wt = widgets.SelectionSlider(\n",
    "    options=[(\"%.2f\"%i,i) for i in LIST_t]\n",
    ")\n",
    "wn = widgets.SelectionSlider(\n",
    "    options=LIST_n\n",
    ")\n",
    "\n",
    "interact(show_lambda1, lambda2=w2, n=wn, t=wt)\n",
    "interact(show_lambda2, lambda1=w1, n=wn, t=wt)\n",
    "interact(show_n, lambda1=w1, lambda2=w2, t=wt)\n",
    "interact(show_t, lambda1=w1, lambda2=w2, n=wn)"
   ]
  },
  {
   "cell_type": "markdown",
   "metadata": {},
   "source": [
    "On trace la proba selon chaque variable en faisant la moyenne sur les autres variables :"
   ]
  },
  {
   "cell_type": "code",
   "execution_count": 25,
   "metadata": {},
   "outputs": [
    {
     "name": "stdout",
     "output_type": "stream",
     "text": [
      "Export PDF : img/0_file_attente/var_lambda1.pdf\n",
      "\n"
     ]
    },
    {
     "data": {
      "image/png": "[encoded data removed]",
      "text/plain": [
       "<Figure size 432x288 with 1 Axes>"
      ]
     },
     "metadata": {
      "needs_background": "light"
     },
     "output_type": "display_data"
    },
    {
     "name": "stdout",
     "output_type": "stream",
     "text": [
      "Export PDF : img/0_file_attente/var_lambda2.pdf\n",
      "\n"
     ]
    },
    {
     "data": {
      "image/png": "[encoded data removed]",
      "text/plain": [
       "<Figure size 432x288 with 1 Axes>"
      ]
     },
     "metadata": {
      "needs_background": "light"
     },
     "output_type": "display_data"
    },
    {
     "name": "stdout",
     "output_type": "stream",
     "text": [
      "Export PDF : img/0_file_attente/var_n.pdf\n",
      "\n"
     ]
    },
    {
     "data": {
      "image/png": "[encoded data removed]",
      "text/plain": [
       "<Figure size 432x288 with 1 Axes>"
      ]
     },
     "metadata": {
      "needs_background": "light"
     },
     "output_type": "display_data"
    },
    {
     "name": "stdout",
     "output_type": "stream",
     "text": [
      "Export PDF : img/0_file_attente/var_t.pdf\n",
      "\n"
     ]
    },
    {
     "data": {
      "image/png": "[encoded data removed]",
      "text/plain": [
       "<Figure size 432x288 with 1 Axes>"
      ]
     },
     "metadata": {
      "needs_background": "light"
     },
     "output_type": "display_data"
    }
   ],
   "source": [
    "for column in ['lambda1', 'lambda2', 'n', 't']:\n",
    "    groupby = df_resul.groupby(by=column).mean()\n",
    "    \n",
    "    plt.scatter(groupby.index, groupby.proba)\n",
    "    plt.ylabel(\"proba\")\n",
    "    plt.xlabel(column)\n",
    "    pdf.export(f\"var_{column}\")\n",
    "    plt.show()"
   ]
  },
  {
   "cell_type": "markdown",
   "metadata": {},
   "source": [
    "**Conclusion :**\n",
    "\n",
    "La probabilité que le nombre de clients dans la salle d'attende dépasse un certain seuil critique n (entre le temps 0 et le temps t) est :\n",
    "- croissante selon $\\lambda_1$ ;\n",
    "- décroissante selon $\\lambda_2$ ;\n",
    "- décroissante selon $N\\_simul$ ;\n",
    "- croissante selon $t$."
   ]
  },
  {
   "cell_type": "markdown",
   "metadata": {},
   "source": [
    "## Question 2"
   ]
  },
  {
   "cell_type": "markdown",
   "metadata": {},
   "source": [
    "### Quasi Monte Carlo"
   ]
  },
  {
   "cell_type": "markdown",
   "metadata": {},
   "source": [
    "On note $N\\_simul$ le nombre de simulations effectuées.\n",
    "\n",
    "Pour rappel, chaque simulation demande la génération de 2 va : l'une suivant une loi $Exp(\\lambda_1)$ et l'autre suivant une loi $Exp(\\lambda_2)$. On utilise la méthode de rejet : on simule $U \\sim \\mathcal{U} [ 0, 1]$ puis on calcule $f(U) = -\\frac{1}{\\lambda} \\log(1-U) \\sim Exp(\\lambda)$.\n",
    "\n",
    "Les 2 va doivent cependant être générés un nombre aléatoire (et donc inconnu) de fois pour chaque simulation :\n",
    "- on génère assez de $Exp(\\lambda_1)$ pour avoir des arrivées de clients jusqu'à la date t ;\n",
    "- on génère ensuite le même nombre de $Exp(\\lambda_2)$ pour avoir le temps de service de chaque client.\n",
    " \n",
    "**Explication du problème :**\n",
    "\n",
    "Dans le cas où l'on aurait qu'un seul couple de va ($Exp(\\lambda_1)$,$Exp(\\lambda_2)$) à générer pour chaque simulation, on pourrait utiliser une méthode de stratification en dimension 2 : au lieu de générer $N\\_simul$ couples d'uniformes sur l'intervalle $[0 ; 1]$, on générerait $N\\_simul$ points dans un quadrillage en dimension 2 (chaque ligne et chaque colonne a une aire 1/N) :\n",
    "\n",
    "![Stratification en dimension 2](img/stratification.jpg)\n",
    "\n",
    "puis chaque simulation utiliserait les 2 coordonnées d'un point pour définir $U_1$ et $U_2$ puis calculer $f(U_1)$ et $f(U_2)$.\n",
    "\n",
    "Dans le cas où il faudrait générer $p$ couple de va  ($Exp(\\lambda_1)$,$Exp(\\lambda_2)$) pour chaque simulation, on pourrait utiliser la méthode de stratification en dimension 2p : on générerait $N\\_simul$ points dans un quadrillage en dimension 2p puis chaque simulation utiliserait les 2p coordonnées d'un point pour définir $U_{1,1}, \\ldots , U_{1,p}$ et $U_{2,1}, \\ldots , U_{2,p}$.\n",
    "\n",
    "Mais dans notre situation, nous ne connaissons pas la valeur de ce $p$ qui peut varier à chaque simulation ($p$ correspond ici au nombre d'arrivées de clients jusqu'à la date $t$).\n",
    "\n",
    "**Première idée : stratification locale** \n",
    "\n",
    "On utilise la méthode de stratification seulement sur la variable $\\lambda_2$ et à l'intérieur de chaque simulation. Pour chaque simulation, après avoir généré un nombre suffisant de $Exp(\\lambda_1)$ noté $n_{clients}$, on sait qu'il faut générer $n_{clients}$ va $Exp(\\lambda_2)$, on peut donc utiliser une méthode de stratification en dimension 1 avec $n_{clients}$ points pour définir $U_1, \\ldots, U_{n_{clients}}$.\n",
    "\n",
    "**Deuxième idée : stratification globale**\n",
    "\n",
    "On utilise la méthode de stratification seulement sur la variable $\\lambda_2$ mais en réalisant une seule stratification sur les $N\\_simul$ simulations. Pour chacune des $N\\_simul$ simulations, on génère un nombre suffisant de $Exp(\\lambda_1)$, puis on prend le max de ce nombre sur toutes les simulations noté $n_{max\\_clients}$. On sait alors qu'il faut générer au maximum $n_{max\\_clients}$ va $Exp(\\lambda_2)$ dans chaque simulation (quitte à en avoir trop) et on va donc utiliser une stratification en dimension $n_{max\\_clients}$ sur laquelle on tire $N\\_simul$ points, ce qui permet de définir dans chaque simulation $U_1, \\ldots, U_{n_{max\\_clients}}$."
   ]
  },
  {
   "cell_type": "code",
   "execution_count": 26,
   "metadata": {},
   "outputs": [],
   "source": [
    "def gen_liste_dates_arrivée(lambda1, t):\n",
    "    # Simule des arrivées de clients jusqu'à la date t\n",
    "    liste_dates_arrivée = [exp_gen(lambda1)]\n",
    "    temps_nouveau_client = exp_gen(lambda1)\n",
    "    while liste_dates_arrivée[-1] + temps_nouveau_client <= t:\n",
    "        liste_dates_arrivée.append(liste_dates_arrivée[-1] + temps_nouveau_client)\n",
    "        temps_nouveau_client = exp_gen(lambda1)\n",
    "    return liste_dates_arrivée"
   ]
  },
  {
   "cell_type": "code",
   "execution_count": 27,
   "metadata": {},
   "outputs": [
    {
     "name": "stdout",
     "output_type": "stream",
     "text": [
      "26\n",
      "Export PDF : img/0_file_attente/density.pdf\n",
      "\n"
     ]
    },
    {
     "data": {
      "image/png": "[encoded data removed]",
      "text/plain": [
       "<Figure size 432x288 with 1 Axes>"
      ]
     },
     "metadata": {
      "needs_background": "light"
     },
     "output_type": "display_data"
    }
   ],
   "source": [
    "liste = [len(gen_liste_dates_arrivée(0.2,50)) for _ in range(100000)]\n",
    "print(max(liste))\n",
    "sns.histplot(liste,binwidth=1, stat=\"density\")\n",
    "plt.xlabel(\"Nombre de générations\")\n",
    "plt.ylabel(\"Densité\")\n",
    "pdf.export(\"density\")\n",
    "plt.show()"
   ]
  },
  {
   "cell_type": "markdown",
   "metadata": {},
   "source": [
    "#### LHS"
   ]
  },
  {
   "cell_type": "markdown",
   "metadata": {},
   "source": [
    "Nous utiliserons la méthode Latin Hypercube sampling (LHS) du module smt."
   ]
  },
  {
   "cell_type": "code",
   "execution_count": 28,
   "metadata": {},
   "outputs": [
    {
     "name": "stdout",
     "output_type": "stream",
     "text": [
      "(50, 2)\n"
     ]
    },
    {
     "data": {
      "image/png": "[encoded data removed]",
      "text/plain": [
       "<Figure size 432x288 with 1 Axes>"
      ]
     },
     "metadata": {
      "needs_background": "light"
     },
     "output_type": "display_data"
    }
   ],
   "source": [
    "import numpy as np\n",
    "import matplotlib.pyplot as plt\n",
    "\n",
    "from smt.sampling_methods import LHS\n",
    "\n",
    "xlimits = np.array([[0.0, 1.0], [0.0, 1.0]])\n",
    "sampling = LHS(xlimits=xlimits)\n",
    "\n",
    "num = 50\n",
    "x = sampling(num)\n",
    "\n",
    "print(x.shape)\n",
    "\n",
    "plt.plot(x[:, 0], x[:, 1], \"o\")\n",
    "plt.xlabel(\"x\")\n",
    "plt.ylabel(\"y\")\n",
    "plt.show()"
   ]
  },
  {
   "cell_type": "markdown",
   "metadata": {},
   "source": [
    "#### Idée v1"
   ]
  },
  {
   "cell_type": "code",
   "execution_count": 29,
   "metadata": {},
   "outputs": [],
   "source": [
    "def proba_N_simul_v1(lambda1, lambda2, n, t, N_simul, multiproc=False):\n",
    "    \"\"\"\n",
    "    Proba d'un dépassement du nombre de clients avec stratification locale (dans chaque simulation) sur lambda2\n",
    "    Dans chaque simulation, on fait un stratification en dimension 1 avec n_clients points pour générer les n_clients Exp(lambda2)\n",
    "    \"\"\"\n",
    "    N_listes_dates_arrivée = [gen_liste_dates_arrivée(lambda1, t) for _ in range(N_simul)]\n",
    "    \n",
    "    N_listes_u = []\n",
    "    for i in range(N_simul):\n",
    "        n_clients = len(N_listes_dates_arrivée[i])   \n",
    "        sampling = sampling = LHS(xlimits=np.array([[0.0, 1.0]]))\n",
    "        liste_u = sampling(n_clients).ravel()\n",
    "        N_listes_u.append(liste_u)\n",
    "    \n",
    "    def f(i):\n",
    "        return simulation(lambda1, lambda2, n, t, liste_dates_arrivée=N_listes_dates_arrivée[i], liste_u=N_listes_u[i])\n",
    "    \n",
    "    def f_multi(liste_dates_arrivée, liste_u):\n",
    "        return simulation(lambda1, lambda2, n, t, liste_dates_arrivée=liste_dates_arrivée, liste_u=liste_u)\n",
    "    \n",
    "    if multiproc:\n",
    "        resultat = p_map(f_multi, N_listes_dates_arrivée, N_listes_u)\n",
    "    else:\n",
    "        resultat = list(map(f, range(N_simul)))\n",
    "    return np.sum(resultat) / len(resultat)"
   ]
  },
  {
   "cell_type": "code",
   "execution_count": 30,
   "metadata": {},
   "outputs": [
    {
     "name": "stdout",
     "output_type": "stream",
     "text": [
      "CPU times: user 10.1 s, sys: 63.8 ms, total: 10.1 s\n",
      "Wall time: 10.1 s\n"
     ]
    },
    {
     "data": {
      "text/plain": [
       "0.6907"
      ]
     },
     "execution_count": 30,
     "metadata": {},
     "output_type": "execute_result"
    }
   ],
   "source": [
    "%%time\n",
    "proba_N_simul_v1(2, 0.5, 6, 5, N_simul=10000, multiproc=False)"
   ]
  },
  {
   "cell_type": "code",
   "execution_count": 31,
   "metadata": {},
   "outputs": [
    {
     "data": {
      "application/vnd.jupyter.widget-view+json": {
       "model_id": "4d5169bef0de458d948f3a350c5bf540",
       "version_major": 2,
       "version_minor": 0
      },
      "text/plain": [
       "  0%|          | 0/10000 [00:00<?, ?it/s]"
      ]
     },
     "metadata": {},
     "output_type": "display_data"
    },
    {
     "name": "stdout",
     "output_type": "stream",
     "text": [
      "CPU times: user 11.1 s, sys: 849 ms, total: 11.9 s\n",
      "Wall time: 11.4 s\n"
     ]
    }
   ],
   "source": [
    "%%time\n",
    "if MULTIPROCESSING:\n",
    "    proba_N_simul_v1(2, 0.5, 6, 5, N_simul=10000, multiproc=True)"
   ]
  },
  {
   "cell_type": "markdown",
   "metadata": {},
   "source": [
    "#### Idée v2"
   ]
  },
  {
   "cell_type": "code",
   "execution_count": 32,
   "metadata": {},
   "outputs": [],
   "source": [
    "def proba_N_simul_v2(lambda1, lambda2, n, t, N_simul, multiproc=False):\n",
    "    \"\"\"\n",
    "    Proba d'un dépassement du nombre de clients avec stratification globale sur lambda2\n",
    "    On fait une seule stratification en dimension n_max_clients (majorant du nombre d'arrivées sur les N simulations) \n",
    "    avec N points pour ensuite générer dans chaque simulation n_max_clients Exp(lambda2)\n",
    "    \"\"\"\n",
    "    N_listes_dates_arrivée = [gen_liste_dates_arrivée(lambda1, t) for _ in range(N_simul)]\n",
    "    \n",
    "    n_max_clients = max([len(elem) for elem in N_listes_dates_arrivée])\n",
    "    \n",
    "    sampling = LHS(xlimits=np.array([[0.0, 1.0]]*n_max_clients))\n",
    "    N_listes_u = sampling(N_simul)\n",
    "    \n",
    "    def f(i):\n",
    "        return simulation(lambda1, lambda2, n, t, liste_dates_arrivée=N_listes_dates_arrivée[i], liste_u=N_listes_u[i])\n",
    "    \n",
    "    def f_multi(liste_dates_arrivée, liste_u):\n",
    "        return simulation(lambda1, lambda2, n, t, liste_dates_arrivée=liste_dates_arrivée, liste_u=liste_u)\n",
    "    \n",
    "    if multiproc:\n",
    "        resultat = p_map(f_multi, N_listes_dates_arrivée, N_listes_u)\n",
    "    else:\n",
    "        resultat = list(map(f, range(N_simul)))\n",
    "    return np.sum(resultat) / len(resultat)"
   ]
  },
  {
   "cell_type": "code",
   "execution_count": 33,
   "metadata": {},
   "outputs": [
    {
     "name": "stdout",
     "output_type": "stream",
     "text": [
      "CPU times: user 6.72 s, sys: 35.2 ms, total: 6.76 s\n",
      "Wall time: 6.75 s\n"
     ]
    },
    {
     "data": {
      "text/plain": [
       "0.6713"
      ]
     },
     "execution_count": 33,
     "metadata": {},
     "output_type": "execute_result"
    }
   ],
   "source": [
    "%%time\n",
    "proba_N_simul_v2(2, 0.5, 6, 5, N_simul=10000, multiproc=False)"
   ]
  },
  {
   "cell_type": "code",
   "execution_count": 34,
   "metadata": {},
   "outputs": [
    {
     "data": {
      "application/vnd.jupyter.widget-view+json": {
       "model_id": "447f140a4a6c4dad87b28805d6e9aa06",
       "version_major": 2,
       "version_minor": 0
      },
      "text/plain": [
       "  0%|          | 0/10000 [00:00<?, ?it/s]"
      ]
     },
     "metadata": {},
     "output_type": "display_data"
    },
    {
     "name": "stdout",
     "output_type": "stream",
     "text": [
      "CPU times: user 8.38 s, sys: 851 ms, total: 9.23 s\n",
      "Wall time: 8.65 s\n"
     ]
    }
   ],
   "source": [
    "%%time\n",
    "if MULTIPROCESSING:\n",
    "    proba_N_simul_v2(2, 0.5, 6, 5, N_simul=10000, multiproc=True)"
   ]
  },
  {
   "cell_type": "markdown",
   "metadata": {},
   "source": [
    "#### Idée v3\n",
    "\n",
    "On calcule un \"majorant\" empirique du nombre de générations de $Exp(\\lambda_1)$ nécessaires pour atteindre le temps $t$ dans une majorité des cas, puis on réalise une stratification globale sur les variables $\\lambda_1$ et $\\lambda_2$. \n",
    "\n",
    "Notons $M$ ce \"majorant\" empirique qui dépend de $\\lambda_1$ et de $t$. On sait alors qu'il faut générer au maximum $M$ va $Exp(\\lambda_1)$ et $Exp(\\lambda_2)$ dans chaque simulation. On utilise donc une stratification en dimension $2M$ sur laquelle on tire $N\\_simul$ points.\n",
    "\n",
    "On recherche ainsi le plus petit $M$ qui vérifie :\n",
    "$$P\\left( \\sum_{i=1}^{M} W_i \\geq t \\right) \\geq s \\quad \\text{avec} \\ W_1, \\ldots, W_M \\sim Exp(\\lambda_1)$$\n",
    "et avec un seuil $s$ arbitrairement proche de $1$. Cela nous assure que lorsque nous générerons $M$ arrivées de clients, nous atteindrons dans une grande majorité des cas le temps $t$.\n",
    "\n",
    "Cela revient à déterminer $M$ tel que \n",
    "$$P\\left(\\Gamma(M, \\lambda_1) > t\\right) \\geq s$$\n",
    "$$ 1 - P(\\Gamma(M, \\lambda_1) < t) \\geq s$$\n",
    "$$ F_{\\Gamma(M, \\lambda_1)}(t) \\leq 1 - s$$\n",
    "\n",
    "Comme $M$ est entier, la loi Gamma correspond à une loi d'Erlang et sa fonction de répartition est donnée par la formule suivante :\n",
    "$$ F_{\\Gamma(M, \\lambda)}(t) = 1 - \\sum_{i=0}^{M-1} e^{-\\lambda t} \\frac{(\\lambda t)^i}{i!}$$\n",
    "\n",
    "Cela revient à déterminer $M$ tel que\n",
    "$$ \\sum_{i=0}^{M-1} e^{-\\lambda t} \\frac{(\\lambda t)^i}{i!} \\geq s $$\n",
    "\n",
    "L'inconvénient de cette méthode est une baisse de la précision de l'estimation de la proba, il se peut en effet que dans certaines simulations, on \"oublie\" des clients à cause de la majoration du nombre de générations d'arrivées de clients."
   ]
  },
  {
   "cell_type": "code",
   "execution_count": 35,
   "metadata": {},
   "outputs": [],
   "source": [
    "def majorant_test(lambda1, t, seuil=0.9999):\n",
    "    \"\"\"\n",
    "    Détermine le plus petit m tel quel la somme de m Exp(lambda1) dépasse t avec une proba supérieure à seuil.\n",
    "    Utilisation de scipy pour test.\n",
    "    \"\"\"\n",
    "    m = 0\n",
    "    while True:\n",
    "        m += 1\n",
    "        if stats.gamma.cdf(t, m, scale=1/lambda1) <= 1-seuil:\n",
    "            return m"
   ]
  },
  {
   "cell_type": "code",
   "execution_count": 36,
   "metadata": {},
   "outputs": [
    {
     "data": {
      "text/plain": [
       "(25, 7, 586)"
      ]
     },
     "execution_count": 36,
     "metadata": {},
     "output_type": "execute_result"
    }
   ],
   "source": [
    "majorant_test(0.2, 50),majorant_test(0.1, 10),majorant_test(5, 100)"
   ]
  },
  {
   "cell_type": "code",
   "execution_count": 37,
   "metadata": {},
   "outputs": [],
   "source": [
    "def factorielle(n):\n",
    "    if n == 0:\n",
    "        return 1\n",
    "    else:\n",
    "        return n  * factorielle(n-1)\n",
    "\n",
    "def majorant(lambda1, t, seuil=0.9999):\n",
    "    \"\"\"\n",
    "    Détermine le plus petit m tel quel la somme de m Exp(lambda1) dépasse t avec une proba supérieure à seuil.\n",
    "    N'utilise pas scipy.\n",
    "    \"\"\"\n",
    "    m = 0\n",
    "    somme = 0\n",
    "    while True:\n",
    "        a = exp(-lambda1 * t)\n",
    "        b = ((lambda1 * t)**m)\n",
    "        c = factorielle(m)\n",
    "        somme += a * (b / c)  # /!\\ ordre très important\n",
    "        m += 1\n",
    "        if somme >= seuil:\n",
    "            return m"
   ]
  },
  {
   "cell_type": "code",
   "execution_count": 38,
   "metadata": {},
   "outputs": [
    {
     "data": {
      "text/plain": [
       "(25, 7, 586)"
      ]
     },
     "execution_count": 38,
     "metadata": {},
     "output_type": "execute_result"
    }
   ],
   "source": [
    "majorant(0.2, 50),majorant(0.1, 10),majorant(5, 100)"
   ]
  },
  {
   "cell_type": "markdown",
   "metadata": {},
   "source": [
    "Test avec $\\lambda_1 = 0.2$ et $t=50$."
   ]
  },
  {
   "cell_type": "code",
   "execution_count": 39,
   "metadata": {},
   "outputs": [
    {
     "name": "stdout",
     "output_type": "stream",
     "text": [
      "27\n"
     ]
    },
    {
     "data": {
      "image/png": "[encoded data removed]",
      "text/plain": [
       "<Figure size 432x288 with 1 Axes>"
      ]
     },
     "metadata": {
      "needs_background": "light"
     },
     "output_type": "display_data"
    }
   ],
   "source": [
    "liste = [len(gen_liste_dates_arrivée(0.2,50)) for _ in range(100000)]\n",
    "print(max(liste))\n",
    "sns.histplot(liste,binwidth=1)\n",
    "plt.xlabel(\"Nombre de générations\")\n",
    "plt.ylabel(\"Densité\")\n",
    "plt.show()"
   ]
  },
  {
   "cell_type": "code",
   "execution_count": 40,
   "metadata": {},
   "outputs": [
    {
     "data": {
      "text/plain": [
       "25"
      ]
     },
     "execution_count": 40,
     "metadata": {},
     "output_type": "execute_result"
    }
   ],
   "source": [
    "majorant(0.2, 50)"
   ]
  },
  {
   "cell_type": "code",
   "execution_count": 41,
   "metadata": {},
   "outputs": [],
   "source": [
    "def gen_liste_dates_arrivée_u(lambda1, liste_u):\n",
    "    # Simule des arrivées de client à partir de la liste des u\n",
    "    liste_dates_arrivée = [exp_gen(lambda1, liste_u[0])]\n",
    "    for i in range(1, len(liste_u)):\n",
    "        liste_dates_arrivée.append(liste_dates_arrivée[-1] + exp_gen(lambda1, liste_u[i]))\n",
    "    return liste_dates_arrivée"
   ]
  },
  {
   "cell_type": "code",
   "execution_count": 42,
   "metadata": {},
   "outputs": [],
   "source": [
    "def proba_N_simul_v3(lambda1, lambda2, n, t, N_simul, multiproc=False):\n",
    "    \"\"\"\n",
    "    Proba d'un dépassement du nombre de clients avec stratification globale sur lambda1 et lambda2\n",
    "    On fait une seule stratification en dimension 2M (majorant \"empirique\" du nombre d'arrivées) \n",
    "    avec N points pour ensuite générer dans chaque simulation M Exp(lambda1) et M Exp(lambda2)\n",
    "    \"\"\"\n",
    "    M = majorant(lambda1, t)\n",
    "    \n",
    "    sampling = LHS(xlimits=np.array([[0.0, 1.0]]*(2*M)))\n",
    "    N_listes_uall = sampling(N_simul)\n",
    "    N_listes_u1 = [elem[:M] for elem in N_listes_uall]\n",
    "    N_listes_u2 = [elem[M:] for elem in N_listes_uall]\n",
    "\n",
    "    N_listes_dates_arrivée = [gen_liste_dates_arrivée_u(lambda1, liste_u) for liste_u in N_listes_u1]\n",
    "    \n",
    "    def f(i):\n",
    "        return simulation(lambda1, lambda2, n, t, liste_dates_arrivée=N_listes_dates_arrivée[i], liste_u=N_listes_u2[i])\n",
    "    \n",
    "    def f_multi(liste_dates_arrivée, liste_u):\n",
    "        return simulation(lambda1, lambda2, n, t, liste_dates_arrivée=liste_dates_arrivée, liste_u=liste_u)\n",
    "    \n",
    "    if multiproc:\n",
    "        resultat = p_map(f_multi, N_listes_dates_arrivée, N_listes_u2)\n",
    "    else:\n",
    "        resultat = list(map(f, range(N_simul)))\n",
    "    return np.sum(resultat) / len(resultat)"
   ]
  },
  {
   "cell_type": "code",
   "execution_count": 43,
   "metadata": {},
   "outputs": [
    {
     "name": "stdout",
     "output_type": "stream",
     "text": [
      "CPU times: user 7.61 s, sys: 28.8 ms, total: 7.64 s\n",
      "Wall time: 7.64 s\n"
     ]
    },
    {
     "data": {
      "text/plain": [
       "0.6752"
      ]
     },
     "execution_count": 43,
     "metadata": {},
     "output_type": "execute_result"
    }
   ],
   "source": [
    "%%time\n",
    "proba_N_simul_v3(2, 0.5, 6, 5, N_simul=10000, multiproc=False)"
   ]
  },
  {
   "cell_type": "code",
   "execution_count": 44,
   "metadata": {},
   "outputs": [
    {
     "data": {
      "application/vnd.jupyter.widget-view+json": {
       "model_id": "66db2ebcd79d405bab90fa3e39a50682",
       "version_major": 2,
       "version_minor": 0
      },
      "text/plain": [
       "  0%|          | 0/10000 [00:00<?, ?it/s]"
      ]
     },
     "metadata": {},
     "output_type": "display_data"
    },
    {
     "name": "stdout",
     "output_type": "stream",
     "text": [
      "CPU times: user 8.59 s, sys: 796 ms, total: 9.39 s\n",
      "Wall time: 8.92 s\n"
     ]
    },
    {
     "data": {
      "text/plain": [
       "0.6775"
      ]
     },
     "execution_count": 44,
     "metadata": {},
     "output_type": "execute_result"
    }
   ],
   "source": [
    "%%time\n",
    "proba_N_simul_v3(2, 0.5, 6, 5, N_simul=10000, multiproc=True)"
   ]
  },
  {
   "cell_type": "markdown",
   "metadata": {},
   "source": [
    "### Comparaison des performances"
   ]
  },
  {
   "cell_type": "code",
   "execution_count": 45,
   "metadata": {},
   "outputs": [
    {
     "name": "stderr",
     "output_type": "stream",
     "text": [
      "/home/headless/anaconda3/envs/work/lib/python3.9/site-packages/numpy/core/_asarray.py:102: UserWarning: Warning: converting a masked element to nan.\n",
      "  return array(a, dtype, copy=False, order=order)\n"
     ]
    },
    {
     "data": {
      "image/png": "[encoded data removed]",
      "text/plain": [
       "<Figure size 432x288 with 1 Axes>"
      ]
     },
     "metadata": {
      "needs_background": "light"
     },
     "output_type": "display_data"
    },
    {
     "data": {
      "text/plain": [
       "True"
      ]
     },
     "execution_count": 45,
     "metadata": {},
     "output_type": "execute_result"
    }
   ],
   "source": [
    "simulation(5,5,10,10, plot=True)"
   ]
  },
  {
   "cell_type": "code",
   "execution_count": 46,
   "metadata": {},
   "outputs": [
    {
     "data": {
      "application/vnd.jupyter.widget-view+json": {
       "model_id": "98ef6d6ca17140e28faa4b6d386d492b",
       "version_major": 2,
       "version_minor": 0
      },
      "text/plain": [
       "  0%|          | 0/1000 [00:00<?, ?it/s]"
      ]
     },
     "metadata": {},
     "output_type": "display_data"
    },
    {
     "data": {
      "application/vnd.jupyter.widget-view+json": {
       "model_id": "1a8d18f5b8d2438c97bad381c7b79dd6",
       "version_major": 2,
       "version_minor": 0
      },
      "text/plain": [
       "  0%|          | 0/1000 [00:00<?, ?it/s]"
      ]
     },
     "metadata": {},
     "output_type": "display_data"
    },
    {
     "data": {
      "application/vnd.jupyter.widget-view+json": {
       "model_id": "183d0d1a17f446eb9282528220fd1241",
       "version_major": 2,
       "version_minor": 0
      },
      "text/plain": [
       "  0%|          | 0/1000 [00:00<?, ?it/s]"
      ]
     },
     "metadata": {},
     "output_type": "display_data"
    },
    {
     "data": {
      "application/vnd.jupyter.widget-view+json": {
       "model_id": "641270ddab0c4ef09861a748958259fc",
       "version_major": 2,
       "version_minor": 0
      },
      "text/plain": [
       "  0%|          | 0/1000 [00:00<?, ?it/s]"
      ]
     },
     "metadata": {},
     "output_type": "display_data"
    },
    {
     "name": "stdout",
     "output_type": "stream",
     "text": [
      "Export PDF : img/0_file_attente/4versions_10.pdf\n",
      "\n"
     ]
    },
    {
     "data": {
      "image/png": "[encoded data removed]",
      "text/plain": [
       "<Figure size 432x288 with 1 Axes>"
      ]
     },
     "metadata": {
      "needs_background": "light"
     },
     "output_type": "display_data"
    },
    {
     "data": {
      "application/vnd.jupyter.widget-view+json": {
       "model_id": "486157faea374b10ad9e1a71b27f2475",
       "version_major": 2,
       "version_minor": 0
      },
      "text/plain": [
       "  0%|          | 0/1000 [00:00<?, ?it/s]"
      ]
     },
     "metadata": {},
     "output_type": "display_data"
    },
    {
     "data": {
      "application/vnd.jupyter.widget-view+json": {
       "model_id": "3a1a6ae9249a4be0acb0b01f93a0bc54",
       "version_major": 2,
       "version_minor": 0
      },
      "text/plain": [
       "  0%|          | 0/1000 [00:00<?, ?it/s]"
      ]
     },
     "metadata": {},
     "output_type": "display_data"
    },
    {
     "data": {
      "application/vnd.jupyter.widget-view+json": {
       "model_id": "918f53c1d3aa4d6aaefb0b4f9fd14a17",
       "version_major": 2,
       "version_minor": 0
      },
      "text/plain": [
       "  0%|          | 0/1000 [00:00<?, ?it/s]"
      ]
     },
     "metadata": {},
     "output_type": "display_data"
    },
    {
     "data": {
      "application/vnd.jupyter.widget-view+json": {
       "model_id": "7d2cc3a391dd4c1cbeaee12517471c13",
       "version_major": 2,
       "version_minor": 0
      },
      "text/plain": [
       "  0%|          | 0/1000 [00:00<?, ?it/s]"
      ]
     },
     "metadata": {},
     "output_type": "display_data"
    },
    {
     "name": "stdout",
     "output_type": "stream",
     "text": [
      "Export PDF : img/0_file_attente/4versions_20.pdf\n",
      "\n"
     ]
    },
    {
     "data": {
      "image/png": "[encoded data removed]",
      "text/plain": [
       "<Figure size 432x288 with 1 Axes>"
      ]
     },
     "metadata": {
      "needs_background": "light"
     },
     "output_type": "display_data"
    },
    {
     "data": {
      "application/vnd.jupyter.widget-view+json": {
       "model_id": "4fe70ce290c14c20b93fcaf29f07dd2a",
       "version_major": 2,
       "version_minor": 0
      },
      "text/plain": [
       "  0%|          | 0/1000 [00:00<?, ?it/s]"
      ]
     },
     "metadata": {},
     "output_type": "display_data"
    },
    {
     "data": {
      "application/vnd.jupyter.widget-view+json": {
       "model_id": "26717f2a763d451388ac17d7a92f7d5a",
       "version_major": 2,
       "version_minor": 0
      },
      "text/plain": [
       "  0%|          | 0/1000 [00:00<?, ?it/s]"
      ]
     },
     "metadata": {},
     "output_type": "display_data"
    },
    {
     "data": {
      "application/vnd.jupyter.widget-view+json": {
       "model_id": "b3564765886d48da952df73c76fcf628",
       "version_major": 2,
       "version_minor": 0
      },
      "text/plain": [
       "  0%|          | 0/1000 [00:00<?, ?it/s]"
      ]
     },
     "metadata": {},
     "output_type": "display_data"
    },
    {
     "data": {
      "application/vnd.jupyter.widget-view+json": {
       "model_id": "9fb29357ffe24e16a5cca8fddc6851d0",
       "version_major": 2,
       "version_minor": 0
      },
      "text/plain": [
       "  0%|          | 0/1000 [00:00<?, ?it/s]"
      ]
     },
     "metadata": {},
     "output_type": "display_data"
    },
    {
     "name": "stdout",
     "output_type": "stream",
     "text": [
      "Export PDF : img/0_file_attente/4versions_50.pdf\n",
      "\n"
     ]
    },
    {
     "data": {
      "image/png": "[encoded data removed]",
      "text/plain": [
       "<Figure size 432x288 with 1 Axes>"
      ]
     },
     "metadata": {
      "needs_background": "light"
     },
     "output_type": "display_data"
    },
    {
     "data": {
      "application/vnd.jupyter.widget-view+json": {
       "model_id": "92dc08817c5b48f7a2cf5846202de029",
       "version_major": 2,
       "version_minor": 0
      },
      "text/plain": [
       "  0%|          | 0/1000 [00:00<?, ?it/s]"
      ]
     },
     "metadata": {},
     "output_type": "display_data"
    },
    {
     "data": {
      "application/vnd.jupyter.widget-view+json": {
       "model_id": "8c5c839847744a82a9103b329355d5a8",
       "version_major": 2,
       "version_minor": 0
      },
      "text/plain": [
       "  0%|          | 0/1000 [00:00<?, ?it/s]"
      ]
     },
     "metadata": {},
     "output_type": "display_data"
    },
    {
     "data": {
      "application/vnd.jupyter.widget-view+json": {
       "model_id": "25115b63911b4ae9b405f4a50de6f484",
       "version_major": 2,
       "version_minor": 0
      },
      "text/plain": [
       "  0%|          | 0/1000 [00:00<?, ?it/s]"
      ]
     },
     "metadata": {},
     "output_type": "display_data"
    },
    {
     "data": {
      "application/vnd.jupyter.widget-view+json": {
       "model_id": "85e239dbe1ae45da9c622ccd1e2f4e08",
       "version_major": 2,
       "version_minor": 0
      },
      "text/plain": [
       "  0%|          | 0/1000 [00:00<?, ?it/s]"
      ]
     },
     "metadata": {},
     "output_type": "display_data"
    },
    {
     "name": "stdout",
     "output_type": "stream",
     "text": [
      "Export PDF : img/0_file_attente/4versions_100.pdf\n",
      "\n"
     ]
    },
    {
     "data": {
      "image/png": "[encoded data removed]",
      "text/plain": [
       "<Figure size 432x288 with 1 Axes>"
      ]
     },
     "metadata": {
      "needs_background": "light"
     },
     "output_type": "display_data"
    },
    {
     "data": {
      "application/vnd.jupyter.widget-view+json": {
       "model_id": "1edfd1bfc8d74cd89b45e48525ed46a9",
       "version_major": 2,
       "version_minor": 0
      },
      "text/plain": [
       "  0%|          | 0/1000 [00:00<?, ?it/s]"
      ]
     },
     "metadata": {},
     "output_type": "display_data"
    },
    {
     "data": {
      "application/vnd.jupyter.widget-view+json": {
       "model_id": "1ce02067a96c4a4f8acbbf665354df36",
       "version_major": 2,
       "version_minor": 0
      },
      "text/plain": [
       "  0%|          | 0/1000 [00:00<?, ?it/s]"
      ]
     },
     "metadata": {},
     "output_type": "display_data"
    },
    {
     "data": {
      "application/vnd.jupyter.widget-view+json": {
       "model_id": "4bc7c5c367f5463d9a29284e4db1382a",
       "version_major": 2,
       "version_minor": 0
      },
      "text/plain": [
       "  0%|          | 0/1000 [00:00<?, ?it/s]"
      ]
     },
     "metadata": {},
     "output_type": "display_data"
    },
    {
     "data": {
      "application/vnd.jupyter.widget-view+json": {
       "model_id": "faa944e0e915419daa5700fa18500ee6",
       "version_major": 2,
       "version_minor": 0
      },
      "text/plain": [
       "  0%|          | 0/1000 [00:00<?, ?it/s]"
      ]
     },
     "metadata": {},
     "output_type": "display_data"
    },
    {
     "name": "stdout",
     "output_type": "stream",
     "text": [
      "Export PDF : img/0_file_attente/4versions_250.pdf\n",
      "\n"
     ]
    },
    {
     "data": {
      "image/png": "[encoded data removed]",
      "text/plain": [
       "<Figure size 432x288 with 1 Axes>"
      ]
     },
     "metadata": {
      "needs_background": "light"
     },
     "output_type": "display_data"
    },
    {
     "data": {
      "application/vnd.jupyter.widget-view+json": {
       "model_id": "f2bc6c149df8404fb59617213c59a5ec",
       "version_major": 2,
       "version_minor": 0
      },
      "text/plain": [
       "  0%|          | 0/1000 [00:00<?, ?it/s]"
      ]
     },
     "metadata": {},
     "output_type": "display_data"
    },
    {
     "data": {
      "application/vnd.jupyter.widget-view+json": {
       "model_id": "81ea7f79866d4bac80f5a2f3f6ba381a",
       "version_major": 2,
       "version_minor": 0
      },
      "text/plain": [
       "  0%|          | 0/1000 [00:00<?, ?it/s]"
      ]
     },
     "metadata": {},
     "output_type": "display_data"
    },
    {
     "data": {
      "application/vnd.jupyter.widget-view+json": {
       "model_id": "f97f5597352c434788b6a433d9c8f196",
       "version_major": 2,
       "version_minor": 0
      },
      "text/plain": [
       "  0%|          | 0/1000 [00:00<?, ?it/s]"
      ]
     },
     "metadata": {},
     "output_type": "display_data"
    },
    {
     "data": {
      "application/vnd.jupyter.widget-view+json": {
       "model_id": "e4ec52dbe36d4d2b972ab80bd1039a67",
       "version_major": 2,
       "version_minor": 0
      },
      "text/plain": [
       "  0%|          | 0/1000 [00:00<?, ?it/s]"
      ]
     },
     "metadata": {},
     "output_type": "display_data"
    },
    {
     "name": "stdout",
     "output_type": "stream",
     "text": [
      "Export PDF : img/0_file_attente/4versions_500.pdf\n",
      "\n"
     ]
    },
    {
     "data": {
      "image/png": "[encoded data removed]",
      "text/plain": [
       "<Figure size 432x288 with 1 Axes>"
      ]
     },
     "metadata": {
      "needs_background": "light"
     },
     "output_type": "display_data"
    },
    {
     "data": {
      "application/vnd.jupyter.widget-view+json": {
       "model_id": "f9e7face61894c3487245a12e7bf035f",
       "version_major": 2,
       "version_minor": 0
      },
      "text/plain": [
       "  0%|          | 0/1000 [00:00<?, ?it/s]"
      ]
     },
     "metadata": {},
     "output_type": "display_data"
    },
    {
     "data": {
      "application/vnd.jupyter.widget-view+json": {
       "model_id": "6701290cb1754e32b8438a578e98e57f",
       "version_major": 2,
       "version_minor": 0
      },
      "text/plain": [
       "  0%|          | 0/1000 [00:00<?, ?it/s]"
      ]
     },
     "metadata": {},
     "output_type": "display_data"
    },
    {
     "data": {
      "application/vnd.jupyter.widget-view+json": {
       "model_id": "a5c5ccb974c64e6eb381a1c9aac8b3cf",
       "version_major": 2,
       "version_minor": 0
      },
      "text/plain": [
       "  0%|          | 0/1000 [00:00<?, ?it/s]"
      ]
     },
     "metadata": {},
     "output_type": "display_data"
    },
    {
     "data": {
      "application/vnd.jupyter.widget-view+json": {
       "model_id": "f7336583ee3e4a91ae4fa9701c18b4ba",
       "version_major": 2,
       "version_minor": 0
      },
      "text/plain": [
       "  0%|          | 0/1000 [00:00<?, ?it/s]"
      ]
     },
     "metadata": {},
     "output_type": "display_data"
    },
    {
     "name": "stdout",
     "output_type": "stream",
     "text": [
      "Export PDF : img/0_file_attente/4versions_750.pdf\n",
      "\n"
     ]
    },
    {
     "data": {
      "image/png": "[encoded data removed]",
      "text/plain": [
       "<Figure size 432x288 with 1 Axes>"
      ]
     },
     "metadata": {
      "needs_background": "light"
     },
     "output_type": "display_data"
    },
    {
     "data": {
      "application/vnd.jupyter.widget-view+json": {
       "model_id": "1d1d3b97d29b4ced8bcecd14b2972ce1",
       "version_major": 2,
       "version_minor": 0
      },
      "text/plain": [
       "  0%|          | 0/1000 [00:00<?, ?it/s]"
      ]
     },
     "metadata": {},
     "output_type": "display_data"
    },
    {
     "data": {
      "application/vnd.jupyter.widget-view+json": {
       "model_id": "02727b3718f84ca9b8c893c54c31880d",
       "version_major": 2,
       "version_minor": 0
      },
      "text/plain": [
       "  0%|          | 0/1000 [00:00<?, ?it/s]"
      ]
     },
     "metadata": {},
     "output_type": "display_data"
    },
    {
     "data": {
      "application/vnd.jupyter.widget-view+json": {
       "model_id": "36220a1feae7434e814a438ddc76c706",
       "version_major": 2,
       "version_minor": 0
      },
      "text/plain": [
       "  0%|          | 0/1000 [00:00<?, ?it/s]"
      ]
     },
     "metadata": {},
     "output_type": "display_data"
    },
    {
     "data": {
      "application/vnd.jupyter.widget-view+json": {
       "model_id": "9d2a6b340a4f4594a328fa19be405a95",
       "version_major": 2,
       "version_minor": 0
      },
      "text/plain": [
       "  0%|          | 0/1000 [00:00<?, ?it/s]"
      ]
     },
     "metadata": {},
     "output_type": "display_data"
    },
    {
     "name": "stdout",
     "output_type": "stream",
     "text": [
      "Export PDF : img/0_file_attente/4versions_1000.pdf\n",
      "\n"
     ]
    },
    {
     "data": {
      "image/png": "[encoded data removed]",
      "text/plain": [
       "<Figure size 432x288 with 1 Axes>"
      ]
     },
     "metadata": {
      "needs_background": "light"
     },
     "output_type": "display_data"
    },
    {
     "data": {
      "application/vnd.jupyter.widget-view+json": {
       "model_id": "d06207d148f045c5a05125b0a6139bfa",
       "version_major": 2,
       "version_minor": 0
      },
      "text/plain": [
       "  0%|          | 0/1000 [00:00<?, ?it/s]"
      ]
     },
     "metadata": {},
     "output_type": "display_data"
    },
    {
     "data": {
      "application/vnd.jupyter.widget-view+json": {
       "model_id": "8b33c76d502641ff8e3bd7e136356018",
       "version_major": 2,
       "version_minor": 0
      },
      "text/plain": [
       "  0%|          | 0/1000 [00:00<?, ?it/s]"
      ]
     },
     "metadata": {},
     "output_type": "display_data"
    },
    {
     "data": {
      "application/vnd.jupyter.widget-view+json": {
       "model_id": "71c5ce4bda1148d1a51b3bd0c94bbf9a",
       "version_major": 2,
       "version_minor": 0
      },
      "text/plain": [
       "  0%|          | 0/1000 [00:00<?, ?it/s]"
      ]
     },
     "metadata": {},
     "output_type": "display_data"
    },
    {
     "data": {
      "application/vnd.jupyter.widget-view+json": {
       "model_id": "62a98c9c15064207aced0d16b84e35f8",
       "version_major": 2,
       "version_minor": 0
      },
      "text/plain": [
       "  0%|          | 0/1000 [00:00<?, ?it/s]"
      ]
     },
     "metadata": {},
     "output_type": "display_data"
    },
    {
     "name": "stdout",
     "output_type": "stream",
     "text": [
      "Export PDF : img/0_file_attente/4versions_2000.pdf\n",
      "\n"
     ]
    },
    {
     "data": {
      "image/png": "[encoded data removed]",
      "text/plain": [
       "<Figure size 432x288 with 1 Axes>"
      ]
     },
     "metadata": {
      "needs_background": "light"
     },
     "output_type": "display_data"
    },
    {
     "data": {
      "application/vnd.jupyter.widget-view+json": {
       "model_id": "ad7f3c6af630450685dd9cf3ab5d64f9",
       "version_major": 2,
       "version_minor": 0
      },
      "text/plain": [
       "  0%|          | 0/1000 [00:00<?, ?it/s]"
      ]
     },
     "metadata": {},
     "output_type": "display_data"
    },
    {
     "data": {
      "application/vnd.jupyter.widget-view+json": {
       "model_id": "1f644bf142f34917ba7561343246fb1d",
       "version_major": 2,
       "version_minor": 0
      },
      "text/plain": [
       "  0%|          | 0/1000 [00:00<?, ?it/s]"
      ]
     },
     "metadata": {},
     "output_type": "display_data"
    },
    {
     "data": {
      "application/vnd.jupyter.widget-view+json": {
       "model_id": "5d64d32807b747f89e911ae625612ab7",
       "version_major": 2,
       "version_minor": 0
      },
      "text/plain": [
       "  0%|          | 0/1000 [00:00<?, ?it/s]"
      ]
     },
     "metadata": {},
     "output_type": "display_data"
    },
    {
     "data": {
      "application/vnd.jupyter.widget-view+json": {
       "model_id": "d8f46e66ece748d8af8c7612cb658952",
       "version_major": 2,
       "version_minor": 0
      },
      "text/plain": [
       "  0%|          | 0/1000 [00:00<?, ?it/s]"
      ]
     },
     "metadata": {},
     "output_type": "display_data"
    },
    {
     "name": "stdout",
     "output_type": "stream",
     "text": [
      "Export PDF : img/0_file_attente/4versions_5000.pdf\n",
      "\n"
     ]
    },
    {
     "data": {
      "image/png": "[encoded data removed]",
      "text/plain": [
       "<Figure size 432x288 with 1 Axes>"
      ]
     },
     "metadata": {
      "needs_background": "light"
     },
     "output_type": "display_data"
    },
    {
     "name": "stdout",
     "output_type": "stream",
     "text": [
      "CPU times: user 1min 31s, sys: 29.8 s, total: 2min 1s\n",
      "Wall time: 21min 48s\n"
     ]
    }
   ],
   "source": [
    "%%time\n",
    "def f_v0(N_simul):\n",
    "    return proba_N_simul_v0(5,5,10,10, N_simul=N_simul)\n",
    "def f_v1(N_simul):\n",
    "    return proba_N_simul_v1(5,5,10,10, N_simul=N_simul)\n",
    "def f_v2(N_simul):\n",
    "    return proba_N_simul_v2(5,5,10,10, N_simul=N_simul)\n",
    "def f_v3(N_simul):\n",
    "    return proba_N_simul_v3(5,5,10,10, N_simul=N_simul)\n",
    "\n",
    "scores_dico = {}\n",
    "calculs_dico = {}\n",
    "df_scores_dico = {}\n",
    "\n",
    "liste_N_simul = [10, 20, 50, 100, 250, 500, 750, 1000, 2000, 5000]\n",
    "nb = 1000  # Nombre de calculs de la proba pour avoir la variance\n",
    "if LOW_CPU:\n",
    "    liste_N_simul = [10, 20, 50, 100, 250, 500]\n",
    "    nb = 200\n",
    "if not MULTIPROCESSING:\n",
    "    nb = 100\n",
    "\n",
    "for label in [\"Version 0\", \"Version 1\", \"Version 2\", \"Version 3\"]:\n",
    "    scores_dico[label] = []\n",
    "    calculs_dico[label] = []\n",
    "\n",
    "for N_simul in liste_N_simul:\n",
    "    for (f_vi, label) in [(f_v0, \"Version 0\"), (f_v1, \"Version 1\"), (f_v2, \"Version 2\"), (f_v3, \"Version 3\")]:    \n",
    "        if MULTIPROCESSING:\n",
    "            calculs = p_map(f_vi, [N_simul]*nb)\n",
    "        else:        \n",
    "            calculs = []\n",
    "            for _ in trange(nb):\n",
    "                calculs.append(f_vi(N_simul))\n",
    "\n",
    "        calculs_dico[label].append(calculs)\n",
    "        sns.kdeplot(calculs, label=label)\n",
    "        scores_dico[label].append({\"N_simul\":N_simul,\n",
    "                       \"mean\": np.mean(calculs),\n",
    "                       \"variance\": np.var(calculs)})\n",
    "\n",
    "    plt.legend()    \n",
    "    plt.title(f\"Nombre de simulations : {N_simul}\")\n",
    "    pdf.export(f\"4versions_{N_simul}\")\n",
    "    plt.show()\n",
    "\n",
    "for label, scores in scores_dico.items():\n",
    "    df_scores = pd.DataFrame(scores)\n",
    "    df_scores_dico[label] = df_scores"
   ]
  },
  {
   "cell_type": "code",
   "execution_count": 47,
   "metadata": {},
   "outputs": [
    {
     "name": "stdout",
     "output_type": "stream",
     "text": [
      "Export PDF : img/0_file_attente/boxplot_Version 0.pdf\n",
      "\n"
     ]
    },
    {
     "data": {
      "image/png": "[encoded data removed]",
      "text/plain": [
       "<Figure size 432x288 with 1 Axes>"
      ]
     },
     "metadata": {
      "needs_background": "light"
     },
     "output_type": "display_data"
    },
    {
     "name": "stdout",
     "output_type": "stream",
     "text": [
      "Export PDF : img/0_file_attente/boxplot_Version 1.pdf\n",
      "\n"
     ]
    },
    {
     "data": {
      "image/png": "[encoded data removed]",
      "text/plain": [
       "<Figure size 432x288 with 1 Axes>"
      ]
     },
     "metadata": {
      "needs_background": "light"
     },
     "output_type": "display_data"
    },
    {
     "name": "stdout",
     "output_type": "stream",
     "text": [
      "Export PDF : img/0_file_attente/boxplot_Version 2.pdf\n",
      "\n"
     ]
    },
    {
     "data": {
      "image/png": "[encoded data removed]",
      "text/plain": [
       "<Figure size 432x288 with 1 Axes>"
      ]
     },
     "metadata": {
      "needs_background": "light"
     },
     "output_type": "display_data"
    },
    {
     "name": "stdout",
     "output_type": "stream",
     "text": [
      "Export PDF : img/0_file_attente/boxplot_Version 3.pdf\n",
      "\n"
     ]
    },
    {
     "data": {
      "image/png": "[encoded data removed]",
      "text/plain": [
       "<Figure size 432x288 with 1 Axes>"
      ]
     },
     "metadata": {
      "needs_background": "light"
     },
     "output_type": "display_data"
    }
   ],
   "source": [
    "for label, calculs in calculs_dico.items():\n",
    "    plt.boxplot(calculs)\n",
    "    plt.xlabel(\"N_simul\")\n",
    "    plt.ylabel(\"proba\")\n",
    "    plt.xticks([i for i in range(1,len(liste_N_simul)+1)], liste_N_simul)\n",
    "    pdf.export(f\"boxplot_{label}\")\n",
    "    plt.title(label)\n",
    "    plt.show()"
   ]
  },
  {
   "cell_type": "code",
   "execution_count": 48,
   "metadata": {},
   "outputs": [
    {
     "name": "stdout",
     "output_type": "stream",
     "text": [
      "Export PDF : img/0_file_attente/variance.pdf\n",
      "\n"
     ]
    },
    {
     "data": {
      "image/png": "[encoded data removed]",
      "text/plain": [
       "<Figure size 432x288 with 1 Axes>"
      ]
     },
     "metadata": {
      "needs_background": "light"
     },
     "output_type": "display_data"
    }
   ],
   "source": [
    "for label, df_scores in df_scores_dico.items():\n",
    "    plt.scatter(df_scores.N_simul, df_scores.variance, label=label, s=15)\n",
    "plt.xlabel(\"N_simul\")\n",
    "plt.ylabel(\"variance\")\n",
    "plt.yscale('log')\n",
    "plt.legend()\n",
    "pdf.export(f\"variance\")\n",
    "plt.show()"
   ]
  },
  {
   "cell_type": "code",
   "execution_count": 49,
   "metadata": {},
   "outputs": [
    {
     "name": "stdout",
     "output_type": "stream",
     "text": [
      "Version 0\n",
      "y = ax + b\n",
      "a   =  -1.001\n",
      "b   =  -1.388\n",
      "r^2 = 0.99960\n",
      "Version 1\n",
      "y = ax + b\n",
      "a   =  -1.007\n",
      "b   =  -1.349\n",
      "r^2 = 0.99961\n",
      "Version 2\n",
      "y = ax + b\n",
      "a   =  -1.005\n",
      "b   =  -1.542\n",
      "r^2 = 0.99981\n",
      "Version 3\n",
      "y = ax + b\n",
      "a   =  -1.006\n",
      "b   =  -2.009\n",
      "r^2 = 0.99974\n",
      "Export PDF : img/0_file_attente/regression.pdf\n",
      "\n"
     ]
    },
    {
     "data": {
      "image/png": "[encoded data removed]",
      "text/plain": [
       "<Figure size 432x288 with 1 Axes>"
      ]
     },
     "metadata": {
      "needs_background": "light"
     },
     "output_type": "display_data"
    }
   ],
   "source": [
    "for label, df_scores in df_scores_dico.items():\n",
    "    X = list(np.log(df_scores.N_simul))\n",
    "    Y = list(np.log(df_scores.variance))\n",
    "\n",
    "    a, b, r, p_value, std_err = linregress(X, Y)\n",
    "    \n",
    "    print(label)\n",
    "    print(\"y = ax + b\")\n",
    "    print(\"a   ={:8.3f}\\nb   ={:8.3f}\\nr^2 ={:8.5f}\".format(a, b, r**2))\n",
    "\n",
    "    plt.scatter(X, Y, label=label)\n",
    "\n",
    "    plt.plot( # droite de regression\n",
    "        [X[0], X[-1]],                  # valeurs de x\n",
    "        [a * X[0] + b, a * X[-1] + b],  # valeurs de y\n",
    "        \"-\",                           # couleur rouge avec un trait continu\n",
    "        # label=f\"Régression {label}\",  # legende\n",
    "    )\n",
    "\n",
    "plt.xlabel(\"log(N_simul)\")\n",
    "plt.ylabel(\"log(variance)\")\n",
    "plt.legend()\n",
    "pdf.export(\"regression\")\n",
    "plt.show()"
   ]
  },
  {
   "cell_type": "markdown",
   "metadata": {},
   "source": [
    "$\\log(variance) = a  log(n) + b$ est équivalent à $ variance = \\exp(b) n^{a} $"
   ]
  },
  {
   "cell_type": "markdown",
   "metadata": {},
   "source": [
    "La régression de la version 0 donne $a=-1$ donc la variance diminue à une vitesse de $\\frac{1}{N\\_simul}$ ce qui correspond bien à la méthode de Monte Carlo standard.\n",
    "\n",
    "Les autres méthodes présentent aussi vitesse de décroissance de la variance en $\\frac{1}{N\\_simul}$."
   ]
  },
  {
   "cell_type": "code",
   "execution_count": 50,
   "metadata": {},
   "outputs": [
    {
     "data": {
      "text/html": [
       "<div>\n",
       "<style scoped>\n",
       "    .dataframe tbody tr th:only-of-type {\n",
       "        vertical-align: middle;\n",
       "    }\n",
       "\n",
       "    .dataframe tbody tr th {\n",
       "        vertical-align: top;\n",
       "    }\n",
       "\n",
       "    .dataframe thead th {\n",
       "        text-align: right;\n",
       "    }\n",
       "</style>\n",
       "<table border=\"1\" class=\"dataframe\">\n",
       "  <thead>\n",
       "    <tr style=\"text-align: right;\">\n",
       "      <th></th>\n",
       "      <th>N_simul</th>\n",
       "      <th>mean</th>\n",
       "      <th>variance</th>\n",
       "    </tr>\n",
       "    <tr>\n",
       "      <th>Méthode</th>\n",
       "      <th></th>\n",
       "      <th></th>\n",
       "      <th></th>\n",
       "    </tr>\n",
       "  </thead>\n",
       "  <tbody>\n",
       "    <tr>\n",
       "      <th>Version 0</th>\n",
       "      <td>5000.0</td>\n",
       "      <td>0.500261</td>\n",
       "      <td>0.000047</td>\n",
       "    </tr>\n",
       "    <tr>\n",
       "      <th>Version 1</th>\n",
       "      <td>5000.0</td>\n",
       "      <td>0.497587</td>\n",
       "      <td>0.000049</td>\n",
       "    </tr>\n",
       "    <tr>\n",
       "      <th>Version 2</th>\n",
       "      <td>5000.0</td>\n",
       "      <td>0.500680</td>\n",
       "      <td>0.000040</td>\n",
       "    </tr>\n",
       "    <tr>\n",
       "      <th>Version 3</th>\n",
       "      <td>5000.0</td>\n",
       "      <td>0.500436</td>\n",
       "      <td>0.000025</td>\n",
       "    </tr>\n",
       "  </tbody>\n",
       "</table>\n",
       "</div>"
      ],
      "text/plain": [
       "           N_simul      mean  variance\n",
       "Méthode                               \n",
       "Version 0   5000.0  0.500261  0.000047\n",
       "Version 1   5000.0  0.497587  0.000049\n",
       "Version 2   5000.0  0.500680  0.000040\n",
       "Version 3   5000.0  0.500436  0.000025"
      ]
     },
     "execution_count": 50,
     "metadata": {},
     "output_type": "execute_result"
    }
   ],
   "source": [
    "best = []\n",
    "for label, df_scores in df_scores_dico.items():\n",
    "    best_score = dict(df_scores.iloc[-1])\n",
    "    best_score['Méthode'] = label\n",
    "    best.append(best_score)\n",
    "pd.DataFrame(best).set_index('Méthode')"
   ]
  },
  {
   "cell_type": "markdown",
   "metadata": {},
   "source": [
    "Les moyennes sont semblables."
   ]
  },
  {
   "cell_type": "code",
   "execution_count": 51,
   "metadata": {},
   "outputs": [
    {
     "name": "stdout",
     "output_type": "stream",
     "text": [
      "Temps d'exécution total : 00:26:04\n"
     ]
    }
   ],
   "source": [
    "print(f\"Temps d'exécution total : {time.strftime('%H:%M:%S', time.gmtime(time.time()-t))}\")"
   ]
  }
 ],
 "metadata": {
  "kernelspec": {
   "display_name": "Python 3",
   "language": "python",
   "name": "python3"
  },
  "language_info": {
   "codemirror_mode": {
    "name": "ipython",
    "version": 3
   },
   "file_extension": ".py",
   "mimetype": "text/x-python",
   "name": "python",
   "nbconvert_exporter": "python",
   "pygments_lexer": "ipython3",
   "version": "3.9.4"
  },
  "toc-autonumbering": true,
  "toc-showcode": false,
  "toc-showmarkdowntxt": false,
  "toc-showtags": false
 },
 "nbformat": 4,
 "nbformat_minor": 4
}
