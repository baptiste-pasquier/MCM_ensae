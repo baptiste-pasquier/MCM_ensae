{
 "cells": [
  {
   "cell_type": "markdown",
   "metadata": {},
   "source": [
    "# File d'attente"
   ]
  },
  {
   "cell_type": "code",
   "execution_count": 1,
   "metadata": {},
   "outputs": [],
   "source": [
    "import random\n",
    "from math import log, exp\n",
    "import pandas as pd\n",
    "import matplotlib.pyplot as plt\n",
    "import numpy as np\n",
    "from scipy import stats\n",
    "import scipy\n",
    "import seaborn as sns\n",
    "import itertools\n",
    "from tqdm.notebook import trange, tqdm\n",
    "from p_tqdm import p_map\n",
    "import time\n",
    "from tools import PDF\n",
    "pdf = PDF(\"img/2_Weibull/\")\n",
    "import time\n",
    "t = time.time()"
   ]
  },
  {
   "cell_type": "code",
   "execution_count": 2,
   "metadata": {},
   "outputs": [
    {
     "name": "stdout",
     "output_type": "stream",
     "text": [
      "CPU count : 56\n",
      "Multiprocessing available : True\n"
     ]
    }
   ],
   "source": [
    "import os\n",
    "import platform\n",
    "CPU_COUNT = os.cpu_count()\n",
    "LOW_CPU = False\n",
    "if CPU_COUNT < 56:\n",
    "    LOW_CPU = True\n",
    "MULTIPROCESSING = True\n",
    "if platform.system() == 'Windows':\n",
    "    MULTIPROCESSING = False\n",
    "print(f\"CPU count : {CPU_COUNT}\")\n",
    "print(f\"Multiprocessing available : {MULTIPROCESSING}\")"
   ]
  },
  {
   "cell_type": "markdown",
   "metadata": {},
   "source": [
    "## Question 4 \n",
    "### Modélisation d'une loi de Weibull  \n",
    "On utilise la méthode d'inversion : "
   ]
  },
  {
   "cell_type": "code",
   "execution_count": 3,
   "metadata": {},
   "outputs": [],
   "source": [
    "def wei_gen(lambda_,k, u=None):\n",
    "    if u is None:\n",
    "        u=random.random()\n",
    "    return (lambda_*((-log(1-u))**(1/k)))"
   ]
  },
  {
   "cell_type": "code",
   "execution_count": 4,
   "metadata": {},
   "outputs": [
    {
     "data": {
      "text/plain": [
       "1.5336934474739408"
      ]
     },
     "execution_count": 4,
     "metadata": {},
     "output_type": "execute_result"
    }
   ],
   "source": [
    "wei_gen(2,2)"
   ]
  },
  {
   "cell_type": "code",
   "execution_count": 5,
   "metadata": {},
   "outputs": [
    {
     "data": {
      "text/plain": [
       "1.6651092223153954"
      ]
     },
     "execution_count": 5,
     "metadata": {},
     "output_type": "execute_result"
    }
   ],
   "source": [
    "wei_gen(2,2,u=0.5)"
   ]
  },
  {
   "cell_type": "code",
   "execution_count": 6,
   "metadata": {},
   "outputs": [
    {
     "data": {
      "text/plain": [
       "1.6651092223153954"
      ]
     },
     "execution_count": 6,
     "metadata": {},
     "output_type": "execute_result"
    }
   ],
   "source": [
    "wei_gen(2,2,u=0.5)"
   ]
  },
  {
   "cell_type": "markdown",
   "metadata": {},
   "source": [
    "**Vérification**"
   ]
  },
  {
   "cell_type": "code",
   "execution_count": 7,
   "metadata": {},
   "outputs": [],
   "source": [
    "k=2"
   ]
  },
  {
   "cell_type": "code",
   "execution_count": 8,
   "metadata": {},
   "outputs": [
    {
     "data": {
      "image/png": "[encoded data removed]",
      "text/plain": [
       "<Figure size 432x288 with 1 Axes>"
      ]
     },
     "metadata": {
      "needs_background": "light"
     },
     "output_type": "display_data"
    },
    {
     "name": "stdout",
     "output_type": "stream",
     "text": [
      "KstestResult(statistic=0.002624995201351371, pvalue=0.49521537916427705)\n"
     ]
    }
   ],
   "source": [
    "liste = [wei_gen(1,k) for i in range(100000)]\n",
    "\n",
    "def test_exp(liste,lambda_=1,k=2):\n",
    "    plt.hist(liste, density=True, bins=50)\n",
    "    sns.kdeplot(liste, label=\"KDE\")\n",
    "\n",
    "    xx = np.linspace(-1, +4, 10000) \n",
    "    yy = stats.exponweib.pdf(xx,lambda_,k)\n",
    "    plt.plot(xx, yy, 'r', label=\"$\\mathcal{E}(\\lambda,k)$ distribution\")    \n",
    "    plt.legend()\n",
    "    plt.show()\n",
    "\n",
    "    print(scipy.stats.kstest(liste, 'exponweib',args=(lambda_,k)))\n",
    "\n",
    "test_exp(liste)"
   ]
  },
  {
   "cell_type": "markdown",
   "metadata": {},
   "source": [
    "### Simulation de la file d'attente "
   ]
  },
  {
   "cell_type": "code",
   "execution_count": 9,
   "metadata": {},
   "outputs": [],
   "source": [
    "def file_attente(lambda1, lambda2, k1, k2, t, simplification=False, liste_dates_arrivée=None, liste_u=None):\n",
    "    \"\"\"\n",
    "    liste_dates_arrivées et liste_u : seulement pour les méthodes v1 et v2\n",
    "    \"\"\"\n",
    "    if liste_dates_arrivée is None:\n",
    "        # On simule d'abord toutes les arrivées des clients\n",
    "        liste_dates_arrivée = [wei_gen(lambda1,k1)]\n",
    "        temps_nouveau_client = wei_gen(lambda1,k2)\n",
    "        while liste_dates_arrivée[-1] + temps_nouveau_client <= t:\n",
    "            liste_dates_arrivée.append(liste_dates_arrivée[-1] + temps_nouveau_client)\n",
    "            temps_nouveau_client = wei_gen(lambda1,k1)\n",
    "    \n",
    "    n_clients = len(liste_dates_arrivée)\n",
    "    \n",
    "    if liste_u is None:\n",
    "        # On simule les temps de service de chaque client\n",
    "        liste_temps_service = [wei_gen(lambda2, k2) for _ in range(n_clients)]\n",
    "    else:\n",
    "        liste_temps_service = [wei_gen(lambda2, k2, liste_u[i]) for i in range(n_clients)]\n",
    "    \n",
    "    # On calcule enfin les dates de début et de fin de service de chaque client\n",
    "    num_client = 0\n",
    "    date_arrivée = liste_dates_arrivée[num_client]\n",
    "    temps_service = liste_temps_service[num_client]\n",
    "    # Le premier client est servi dès son arrivée\n",
    "    date_début_service = date_arrivée\n",
    "    date_fin_service = date_début_service + temps_service\n",
    "    \n",
    "    liste_dates_début_service = [date_début_service]\n",
    "    liste_dates_fin_service = [date_fin_service]    \n",
    "    \n",
    "    while num_client < n_clients-1:\n",
    "        num_client += 1\n",
    "        date_arrivée = liste_dates_arrivée[num_client]\n",
    "        temps_service = liste_temps_service[num_client]\n",
    "        \n",
    "        if date_arrivée >= liste_dates_fin_service[-1]:\n",
    "            # Si le client arrive après la fin de service du client précédent,\n",
    "            # il est servi tout de suite\n",
    "            date_début_service = date_arrivée            \n",
    "            date_fin_service = date_début_service + temps_service\n",
    "        else:\n",
    "            # Sinon le client est servi à l'instant de la fin de service du client précédent\n",
    "            date_début_service = liste_dates_fin_service[-1]\n",
    "            date_fin_service = date_début_service + temps_service      \n",
    "\n",
    "        liste_dates_début_service.append(date_début_service)\n",
    "        liste_dates_fin_service.append(date_fin_service) \n",
    "        \n",
    "        if simplification and date_fin_service > t:\n",
    "            break\n",
    "\n",
    "    l = len(liste_dates_début_service)\n",
    "    if l < n_clients:\n",
    "        liste_dates_début_service += [None for i in range(n_clients - l)]\n",
    "        liste_dates_fin_service += [None for i in range(n_clients - l)]\n",
    "        \n",
    "    dico = {\"Date arrivée client\": liste_dates_arrivée, \n",
    "            \"Date début service\": liste_dates_début_service,\n",
    "            \"Temps service\": liste_temps_service,\n",
    "            \"Date fin service\": liste_dates_fin_service}\n",
    "    \n",
    "    return pd.DataFrame(dico)"
   ]
  },
  {
   "cell_type": "code",
   "execution_count": 10,
   "metadata": {},
   "outputs": [],
   "source": [
    "def search_t(X, t):\n",
    "    \"\"\"\n",
    "    Renvoie i tel que X[i] <= t et X[i+1] >= t\n",
    "    \"\"\"\n",
    "    if t in X:\n",
    "        return X.index(t)    \n",
    "    else:\n",
    "        xt = 0\n",
    "        while xt <= len(X)-2:\n",
    "            if X[xt+1] < t:\n",
    "                xt += 1\n",
    "            else:\n",
    "                return xt\n",
    "        return xt\n",
    "\n",
    "\n",
    "def nb_client_instant(data, n, t, plot=True, pdf=None):\n",
    "    \"\"\"\n",
    "    Renvoie True si dépassement du seuil n\n",
    "    False sinon\n",
    "    \"\"\"\n",
    "    X = [0]\n",
    "    Y = [0]\n",
    "    \n",
    "    liste_dates_arrivée = list(data[\"Date arrivée client\"])\n",
    "    liste_dates_départ = list(data[\"Date fin service\"])\n",
    "    \n",
    "    while len(liste_dates_arrivée) > 0 and len(liste_dates_départ) > 0:\n",
    "        date_arrivée = liste_dates_arrivée[0]\n",
    "        date_départ = liste_dates_départ[0]\n",
    "        \n",
    "        if date_arrivée <= date_départ:\n",
    "            date = liste_dates_arrivée.pop(0)\n",
    "            X.append(date)\n",
    "            Y.append(Y[-1] + 1)\n",
    "        else:\n",
    "            date = liste_dates_départ.pop(0)\n",
    "            X.append(date)\n",
    "            Y.append(Y[-1] - 1)\n",
    "    \n",
    "    while len(liste_dates_arrivée) > 0 :\n",
    "        date_arrivée = liste_dates_arrivée.pop(0)\n",
    "        X.append(date_arrivée)\n",
    "        Y.append(Y[-1] + 1)\n",
    "        \n",
    "    while len(liste_dates_départ) > 0 :\n",
    "        date_départ = liste_dates_départ.pop(0)\n",
    "        X.append(date_départ)\n",
    "        Y.append(Y[-1] - 1)\n",
    "    \n",
    "    xt = search_t(X,t)\n",
    "\n",
    "    if plot:\n",
    "        plt.scatter(X[1:xt+1],Y[1:xt+1])\n",
    "        plt.scatter(X[xt+1:],Y[xt+1:], c=\"#C2C2C2\")\n",
    "        for i in range(xt):\n",
    "            plt.hlines(Y[i], X[i], X[i+1])\n",
    "            plt.vlines(X[i+1], Y[i], Y[i+1])\n",
    "        if xt+1 < len(X):\n",
    "            plt.hlines(Y[xt], X[xt], X[xt+1])\n",
    "            plt.vlines(X[xt+1], Y[xt], Y[xt+1], color=\"#C2C2C2\")\n",
    "        for i in range(xt+1, len(X)-1):\n",
    "            plt.hlines(Y[i], X[i], X[i+1], color=\"#C2C2C2\")\n",
    "            plt.vlines(X[i+1], Y[i], Y[i+1], color=\"#C2C2C2\")\n",
    "        plt.axhline(n, c=\"r\", linestyle=\"--\", label=\"Seuil de clients\")\n",
    "        plt.axvline(t, c=\"g\", label=\"Date t\")\n",
    "        plt.legend()\n",
    "        plt.xlabel(\"Temps\")\n",
    "        plt.ylabel(\"Nombre de clients\")\n",
    "        if pdf is not None:\n",
    "            pdf.export()\n",
    "        plt.show()\n",
    "\n",
    "    if max(Y[:xt+1]) > n:\n",
    "        return True\n",
    "    else:\n",
    "        return False"
   ]
  },
  {
   "cell_type": "code",
   "execution_count": 11,
   "metadata": {},
   "outputs": [],
   "source": [
    "def simulation(lambda1, lambda2, k1, k2, n, t, plot=False, simplification=True, liste_dates_arrivée=None, liste_u=None):\n",
    "    \"\"\"\n",
    "    Combine les fonctions file_attente et nb_client_instant\n",
    "    \"\"\"\n",
    "\n",
    "    data = file_attente(lambda1, lambda2, k1, k2, t, simplification=simplification, liste_dates_arrivée=liste_dates_arrivée, liste_u=liste_u)\n",
    "    return nb_client_instant(data, n, t, plot=plot)"
   ]
  },
  {
   "cell_type": "code",
   "execution_count": 12,
   "metadata": {},
   "outputs": [
    {
     "data": {
      "image/png": "[encoded data removed]",
      "text/plain": [
       "<Figure size 432x288 with 1 Axes>"
      ]
     },
     "metadata": {
      "needs_background": "light"
     },
     "output_type": "display_data"
    },
    {
     "data": {
      "text/plain": [
       "False"
      ]
     },
     "execution_count": 12,
     "metadata": {},
     "output_type": "execute_result"
    }
   ],
   "source": [
    "simulation(2, 2, 0.5, 1, 6, 5, plot=True, simplification=False)"
   ]
  },
  {
   "cell_type": "markdown",
   "metadata": {},
   "source": [
    "### Estimation de la probabilité "
   ]
  },
  {
   "cell_type": "code",
   "execution_count": 13,
   "metadata": {},
   "outputs": [],
   "source": [
    "def proba_N_simul_v0(lambda1, lambda2, k1, k2, n, t, N_simul, multiproc=False):\n",
    "    \"\"\"\n",
    "    Proba d'un dépassement du nombre de clients\n",
    "    \"\"\"\n",
    "    def f_(_):\n",
    "        return simulation(lambda1, lambda2, k1, k2, n, t)\n",
    "    if multiproc:\n",
    "        resultat = p_map(f_, [0]*N_simul)\n",
    "    else:\n",
    "        resultat = list(map(f_, [0]*N_simul))        \n",
    "    return (np.sum(resultat) / len(resultat))"
   ]
  },
  {
   "cell_type": "code",
   "execution_count": 14,
   "metadata": {},
   "outputs": [
    {
     "name": "stdout",
     "output_type": "stream",
     "text": [
      "CPU times: user 6.52 s, sys: 0 ns, total: 6.52 s\n",
      "Wall time: 6.52 s\n"
     ]
    },
    {
     "data": {
      "text/plain": [
       "0.1107"
      ]
     },
     "execution_count": 14,
     "metadata": {},
     "output_type": "execute_result"
    }
   ],
   "source": [
    "%%time\n",
    "proba_N_simul_v0(1, 2, 0.5, 1, 6, 5, N_simul=10000, multiproc=False)"
   ]
  },
  {
   "cell_type": "markdown",
   "metadata": {},
   "source": [
    "### Influence des paramètres\n",
    "On calcule la proba sur de nombreuses combinaisons de paramètres."
   ]
  },
  {
   "cell_type": "code",
   "execution_count": 15,
   "metadata": {},
   "outputs": [],
   "source": [
    "def dico_proba(args):\n",
    "    (lambda1, lambda2, k1, k2, n, t) = args\n",
    "    return {\"lambda1\": lambda1,\n",
    "             \"lambda2\": lambda2,\n",
    "            \"k1\":k1,\n",
    "            \"k2\":k2,\n",
    "             \"n\": n,\n",
    "             \"t\": t,\n",
    "             \"proba\": proba_N_simul_v0(lambda1, lambda2, k1, k2, n, t, N_simul=500)}"
   ]
  },
  {
   "cell_type": "code",
   "execution_count": 16,
   "metadata": {},
   "outputs": [],
   "source": [
    "import itertools"
   ]
  },
  {
   "cell_type": "code",
   "execution_count": 17,
   "metadata": {},
   "outputs": [],
   "source": [
    "from tqdm.notebook import trange, tqdm\n",
    "from p_tqdm import p_map"
   ]
  },
  {
   "cell_type": "code",
   "execution_count": 18,
   "metadata": {},
   "outputs": [
    {
     "data": {
      "application/vnd.jupyter.widget-view+json": {
       "model_id": "516ea3638db44fba953b335c27019648",
       "version_major": 2,
       "version_minor": 0
      },
      "text/plain": [
       "  0%|          | 0/102400 [00:00<?, ?it/s]"
      ]
     },
     "metadata": {},
     "output_type": "display_data"
    },
    {
     "name": "stdout",
     "output_type": "stream",
     "text": [
      "CPU times: user 5min 3s, sys: 46.9 s, total: 5min 50s\n",
      "Wall time: 20min 33s\n"
     ]
    }
   ],
   "source": [
    "%%time\n",
    "\n",
    "LIST_LAMBDA1 = np.linspace(0.1, 5, 8)\n",
    "LIST_LAMBDA2 = np.linspace(0.1, 5, 8)\n",
    "LIST_K1 = np.linspace(0.1, 5, 8)\n",
    "LIST_K2 = np.linspace(0.1, 5, 8)\n",
    "LIST_n = np.arange(2, 20, 4)\n",
    "LIST_t = np.linspace(5, 15, 5)\n",
    "\n",
    "if LOW_CPU:\n",
    "    LIST_LAMBDA1 = np.linspace(0.1, 5, 4)\n",
    "    LIST_LAMBDA2 = np.linspace(0.1, 5, 4)\n",
    "    LIST_K1 = np.linspace(0.1, 5, 4)\n",
    "    LIST_K2 = np.linspace(0.1, 5, 4)\n",
    "    LIST_n = np.arange(2, 20, 12)\n",
    "    LIST_t = np.linspace(5, 15, 4)\n",
    "if not MULTIPROCESSING:\n",
    "    LIST_LAMBDA1 = np.linspace(0.1, 5, 3)\n",
    "    LIST_LAMBDA2 = np.linspace(0.1, 5, 3)\n",
    "    LIST_K1 = np.linspace(0.1, 5, 3)\n",
    "    LIST_K2 = np.linspace(0.1, 5, 3)\n",
    "    LIST_n = np.arange(2, 20, 12)\n",
    "    LIST_t = np.linspace(5, 15, 3)\n",
    "\n",
    "\n",
    "LISTE_args = list(itertools.product(LIST_LAMBDA1, LIST_LAMBDA2,LIST_K1,LIST_K2, LIST_n, LIST_t))\n",
    "\n",
    "if MULTIPROCESSING:\n",
    "    resul = p_map(dico_proba, LISTE_args)\n",
    "else:\n",
    "    resul = []\n",
    "    for args in tqdm(LISTE_args):\n",
    "        resul.append(dico_proba(args))\n",
    "\n",
    "df_resul = pd.DataFrame(resul)"
   ]
  },
  {
   "cell_type": "code",
   "execution_count": 19,
   "metadata": {},
   "outputs": [
    {
     "data": {
      "text/html": [
       "<div>\n",
       "<style scoped>\n",
       "    .dataframe tbody tr th:only-of-type {\n",
       "        vertical-align: middle;\n",
       "    }\n",
       "\n",
       "    .dataframe tbody tr th {\n",
       "        vertical-align: top;\n",
       "    }\n",
       "\n",
       "    .dataframe thead th {\n",
       "        text-align: right;\n",
       "    }\n",
       "</style>\n",
       "<table border=\"1\" class=\"dataframe\">\n",
       "  <thead>\n",
       "    <tr style=\"text-align: right;\">\n",
       "      <th></th>\n",
       "      <th>lambda1</th>\n",
       "      <th>lambda2</th>\n",
       "      <th>k1</th>\n",
       "      <th>k2</th>\n",
       "      <th>n</th>\n",
       "      <th>t</th>\n",
       "      <th>proba</th>\n",
       "    </tr>\n",
       "  </thead>\n",
       "  <tbody>\n",
       "    <tr>\n",
       "      <th>0</th>\n",
       "      <td>0.1</td>\n",
       "      <td>0.1</td>\n",
       "      <td>0.1</td>\n",
       "      <td>0.1</td>\n",
       "      <td>2</td>\n",
       "      <td>5.0</td>\n",
       "      <td>0.302</td>\n",
       "    </tr>\n",
       "    <tr>\n",
       "      <th>1</th>\n",
       "      <td>0.1</td>\n",
       "      <td>0.1</td>\n",
       "      <td>0.1</td>\n",
       "      <td>0.1</td>\n",
       "      <td>2</td>\n",
       "      <td>7.5</td>\n",
       "      <td>0.360</td>\n",
       "    </tr>\n",
       "    <tr>\n",
       "      <th>2</th>\n",
       "      <td>0.1</td>\n",
       "      <td>0.1</td>\n",
       "      <td>0.1</td>\n",
       "      <td>0.1</td>\n",
       "      <td>2</td>\n",
       "      <td>10.0</td>\n",
       "      <td>0.396</td>\n",
       "    </tr>\n",
       "    <tr>\n",
       "      <th>3</th>\n",
       "      <td>0.1</td>\n",
       "      <td>0.1</td>\n",
       "      <td>0.1</td>\n",
       "      <td>0.1</td>\n",
       "      <td>2</td>\n",
       "      <td>12.5</td>\n",
       "      <td>0.428</td>\n",
       "    </tr>\n",
       "    <tr>\n",
       "      <th>4</th>\n",
       "      <td>0.1</td>\n",
       "      <td>0.1</td>\n",
       "      <td>0.1</td>\n",
       "      <td>0.1</td>\n",
       "      <td>2</td>\n",
       "      <td>15.0</td>\n",
       "      <td>0.422</td>\n",
       "    </tr>\n",
       "    <tr>\n",
       "      <th>...</th>\n",
       "      <td>...</td>\n",
       "      <td>...</td>\n",
       "      <td>...</td>\n",
       "      <td>...</td>\n",
       "      <td>...</td>\n",
       "      <td>...</td>\n",
       "      <td>...</td>\n",
       "    </tr>\n",
       "    <tr>\n",
       "      <th>102395</th>\n",
       "      <td>5.0</td>\n",
       "      <td>5.0</td>\n",
       "      <td>5.0</td>\n",
       "      <td>5.0</td>\n",
       "      <td>18</td>\n",
       "      <td>5.0</td>\n",
       "      <td>0.000</td>\n",
       "    </tr>\n",
       "    <tr>\n",
       "      <th>102396</th>\n",
       "      <td>5.0</td>\n",
       "      <td>5.0</td>\n",
       "      <td>5.0</td>\n",
       "      <td>5.0</td>\n",
       "      <td>18</td>\n",
       "      <td>7.5</td>\n",
       "      <td>0.000</td>\n",
       "    </tr>\n",
       "    <tr>\n",
       "      <th>102397</th>\n",
       "      <td>5.0</td>\n",
       "      <td>5.0</td>\n",
       "      <td>5.0</td>\n",
       "      <td>5.0</td>\n",
       "      <td>18</td>\n",
       "      <td>10.0</td>\n",
       "      <td>0.000</td>\n",
       "    </tr>\n",
       "    <tr>\n",
       "      <th>102398</th>\n",
       "      <td>5.0</td>\n",
       "      <td>5.0</td>\n",
       "      <td>5.0</td>\n",
       "      <td>5.0</td>\n",
       "      <td>18</td>\n",
       "      <td>12.5</td>\n",
       "      <td>0.000</td>\n",
       "    </tr>\n",
       "    <tr>\n",
       "      <th>102399</th>\n",
       "      <td>5.0</td>\n",
       "      <td>5.0</td>\n",
       "      <td>5.0</td>\n",
       "      <td>5.0</td>\n",
       "      <td>18</td>\n",
       "      <td>15.0</td>\n",
       "      <td>0.000</td>\n",
       "    </tr>\n",
       "  </tbody>\n",
       "</table>\n",
       "<p>102400 rows × 7 columns</p>\n",
       "</div>"
      ],
      "text/plain": [
       "        lambda1  lambda2   k1   k2   n     t  proba\n",
       "0           0.1      0.1  0.1  0.1   2   5.0  0.302\n",
       "1           0.1      0.1  0.1  0.1   2   7.5  0.360\n",
       "2           0.1      0.1  0.1  0.1   2  10.0  0.396\n",
       "3           0.1      0.1  0.1  0.1   2  12.5  0.428\n",
       "4           0.1      0.1  0.1  0.1   2  15.0  0.422\n",
       "...         ...      ...  ...  ...  ..   ...    ...\n",
       "102395      5.0      5.0  5.0  5.0  18   5.0  0.000\n",
       "102396      5.0      5.0  5.0  5.0  18   7.5  0.000\n",
       "102397      5.0      5.0  5.0  5.0  18  10.0  0.000\n",
       "102398      5.0      5.0  5.0  5.0  18  12.5  0.000\n",
       "102399      5.0      5.0  5.0  5.0  18  15.0  0.000\n",
       "\n",
       "[102400 rows x 7 columns]"
      ]
     },
     "execution_count": 19,
     "metadata": {},
     "output_type": "execute_result"
    }
   ],
   "source": [
    "df_resul"
   ]
  },
  {
   "cell_type": "code",
   "execution_count": 20,
   "metadata": {},
   "outputs": [
    {
     "data": {
      "application/vnd.jupyter.widget-view+json": {
       "model_id": "962c4b81984840e18834a64e7b752535",
       "version_major": 2,
       "version_minor": 0
      },
      "text/plain": [
       "interactive(children=(SelectionSlider(description='lambda2', options=(('0.10', 0.1), ('0.80', 0.8), ('1.50', 1…"
      ]
     },
     "metadata": {},
     "output_type": "display_data"
    },
    {
     "data": {
      "application/vnd.jupyter.widget-view+json": {
       "model_id": "bfb8eb4787f84f90bae73b35dd8e254d",
       "version_major": 2,
       "version_minor": 0
      },
      "text/plain": [
       "interactive(children=(SelectionSlider(description='lambda1', options=(('0.10', 0.1), ('0.80', 0.8), ('1.50', 1…"
      ]
     },
     "metadata": {},
     "output_type": "display_data"
    },
    {
     "data": {
      "application/vnd.jupyter.widget-view+json": {
       "model_id": "b8b80de295474f5c99696af84a7af262",
       "version_major": 2,
       "version_minor": 0
      },
      "text/plain": [
       "interactive(children=(SelectionSlider(description='lambda1', options=(('0.10', 0.1), ('0.80', 0.8), ('1.50', 1…"
      ]
     },
     "metadata": {},
     "output_type": "display_data"
    },
    {
     "data": {
      "application/vnd.jupyter.widget-view+json": {
       "model_id": "8cf9b119d3284e29a70bbe0c0a3cf311",
       "version_major": 2,
       "version_minor": 0
      },
      "text/plain": [
       "interactive(children=(SelectionSlider(description='lambda1', options=(('0.10', 0.1), ('0.80', 0.8), ('1.50', 1…"
      ]
     },
     "metadata": {},
     "output_type": "display_data"
    },
    {
     "data": {
      "application/vnd.jupyter.widget-view+json": {
       "model_id": "d8f8db8e3f724108a69ad0b37cdf0b44",
       "version_major": 2,
       "version_minor": 0
      },
      "text/plain": [
       "interactive(children=(SelectionSlider(description='lambda1', options=(('0.10', 0.1), ('0.80', 0.8), ('1.50', 1…"
      ]
     },
     "metadata": {},
     "output_type": "display_data"
    },
    {
     "data": {
      "application/vnd.jupyter.widget-view+json": {
       "model_id": "7cba88a0da674caaa4fb844bf036b552",
       "version_major": 2,
       "version_minor": 0
      },
      "text/plain": [
       "interactive(children=(SelectionSlider(description='lambda1', options=(('0.10', 0.1), ('0.80', 0.8), ('1.50', 1…"
      ]
     },
     "metadata": {},
     "output_type": "display_data"
    },
    {
     "data": {
      "text/plain": [
       "<function __main__.show_t(lambda1, lambda2, k1, k2, n)>"
      ]
     },
     "execution_count": 20,
     "metadata": {},
     "output_type": "execute_result"
    }
   ],
   "source": [
    "from ipywidgets import interact\n",
    "import ipywidgets as widgets\n",
    "\n",
    "def show_n(lambda1, lambda2, k1, k2, t):\n",
    "    df_resul_show = df_resul[(df_resul.lambda1==lambda1) & (df_resul.lambda2==lambda2) & (df_resul.t==t) & \\\n",
    "                            (df_resul.k1==k1) & (df_resul.k2==k2)]\n",
    "    plt.scatter(df_resul_show.n, df_resul_show.proba)\n",
    "    plt.ylabel(\"proba\")\n",
    "    plt.xlabel(\"n\")\n",
    "    plt.show()\n",
    "    return()\n",
    "\n",
    "def show_t(lambda1, lambda2, k1, k2, n):\n",
    "    df_resul_show = df_resul[(df_resul.lambda1==lambda1) & (df_resul.lambda2==lambda2) & (df_resul.n==n) &\\\n",
    "                            (df_resul.k1==k1) & (df_resul.k2==k2)]\n",
    "    plt.scatter(df_resul_show.t, df_resul_show.proba)\n",
    "    plt.ylabel(\"proba\")\n",
    "    plt.xlabel(\"t\")\n",
    "    plt.show()\n",
    "    return()\n",
    "\n",
    "def show_lambda1(lambda2, k1, k2, n, t):\n",
    "    df_resul_show = df_resul[(df_resul.lambda2==lambda2) & (df_resul.n==n) & (df_resul.t==t) &\\\n",
    "                            (df_resul.k1==k1) & (df_resul.k2==k2)]\n",
    "    plt.scatter(df_resul_show.lambda1, df_resul_show.proba)\n",
    "    plt.ylabel(\"proba\")\n",
    "    plt.xlabel(\"lambda1\")\n",
    "    plt.show()\n",
    "    return()\n",
    "\n",
    "def show_lambda2(lambda1, k1, k2, n, t):\n",
    "    df_resul_show = df_resul[(df_resul.lambda1==lambda1) & (df_resul.n==n) & (df_resul.t==t) &\\\n",
    "                            (df_resul.k1==k1) & (df_resul.k2==k2)]\n",
    "    plt.scatter(df_resul_show.lambda2, df_resul_show.proba)\n",
    "    plt.ylabel(\"proba\")\n",
    "    plt.xlabel(\"lambda2\")\n",
    "    plt.show()\n",
    "    return()\n",
    "\n",
    "def show_k1(lambda1, lambda2, k2, n, t):\n",
    "    df_resul_show = df_resul[(df_resul.lambda1==lambda1) & (df_resul.lambda2==lambda2) & (df_resul.n==n) & (df_resul.t==t) &\\\n",
    "                            (df_resul.k2==k2)]\n",
    "    plt.scatter(df_resul_show.k1, df_resul_show.proba)\n",
    "    plt.ylabel(\"proba\")\n",
    "    plt.xlabel(\"k1\")\n",
    "    plt.show()\n",
    "    return()\n",
    "\n",
    "def show_k2(lambda1, lambda2, k1, n, t):\n",
    "    df_resul_show = df_resul[(df_resul.lambda1==lambda1) & (df_resul.lambda2==lambda2) & (df_resul.n==n) & (df_resul.t==t) &\\\n",
    "                            (df_resul.k1==k1)]\n",
    "    plt.scatter(df_resul_show.k2, df_resul_show.proba)\n",
    "    plt.ylabel(\"proba\")\n",
    "    plt.xlabel(\"k2\")\n",
    "    plt.show()\n",
    "    return()\n",
    "\n",
    "w1 = widgets.SelectionSlider(\n",
    "    options=[(\"%.2f\"%i,i) for i in LIST_LAMBDA1]\n",
    ")\n",
    "w2 = widgets.SelectionSlider(\n",
    "    options=[(\"%.2f\"%i,i) for i in LIST_LAMBDA2]\n",
    ")\n",
    "w3 = widgets.SelectionSlider(\n",
    "    options=[(\"%.2f\"%i,i) for i in LIST_K1]\n",
    ")\n",
    "w4 = widgets.SelectionSlider(\n",
    "    options=[(\"%.2f\"%i,i) for i in LIST_K2]\n",
    ")\n",
    "wt = widgets.SelectionSlider(\n",
    "    options=[(\"%.2f\"%i,i) for i in LIST_t]\n",
    ")\n",
    "wn = widgets.SelectionSlider(\n",
    "    options=LIST_n\n",
    ")\n",
    "\n",
    "interact(show_lambda1, lambda2=w2, k1=w3, k2=w4, n=wn, t=wt)\n",
    "interact(show_lambda2, lambda1=w1, k1=w3, k2=w4, n=wn, t=wt)\n",
    "interact(show_k1, lambda1=w1, lambda2=w2, k2=w4, n=wn, t=wt)\n",
    "interact(show_k2, lambda1=w1,lambda2=w2, k1=w3, n=wn, t=wt)\n",
    "interact(show_n, lambda1=w1, lambda2=w2,k1=w3, k2=w4, t=wt)\n",
    "interact(show_t, lambda1=w1, lambda2=w2,k1=w3, k2=w4, n=wn)"
   ]
  },
  {
   "cell_type": "markdown",
   "metadata": {},
   "source": [
    "On trace la proba selon chaque variable en faisant la moyenne sur les autres variables :"
   ]
  },
  {
   "cell_type": "code",
   "execution_count": 21,
   "metadata": {},
   "outputs": [
    {
     "name": "stdout",
     "output_type": "stream",
     "text": [
      "Export PDF : img/2_Weibull/var_lambda1.pdf\n",
      "\n"
     ]
    },
    {
     "data": {
      "image/png": "[encoded data removed]",
      "text/plain": [
       "<Figure size 432x288 with 1 Axes>"
      ]
     },
     "metadata": {
      "needs_background": "light"
     },
     "output_type": "display_data"
    },
    {
     "name": "stdout",
     "output_type": "stream",
     "text": [
      "Export PDF : img/2_Weibull/var_lambda2.pdf\n",
      "\n"
     ]
    },
    {
     "data": {
      "image/png": "[encoded data removed]",
      "text/plain": [
       "<Figure size 432x288 with 1 Axes>"
      ]
     },
     "metadata": {
      "needs_background": "light"
     },
     "output_type": "display_data"
    },
    {
     "name": "stdout",
     "output_type": "stream",
     "text": [
      "Export PDF : img/2_Weibull/var_k1.pdf\n",
      "\n"
     ]
    },
    {
     "data": {
      "image/png": "[encoded data removed]",
      "text/plain": [
       "<Figure size 432x288 with 1 Axes>"
      ]
     },
     "metadata": {
      "needs_background": "light"
     },
     "output_type": "display_data"
    },
    {
     "name": "stdout",
     "output_type": "stream",
     "text": [
      "Export PDF : img/2_Weibull/var_k2.pdf\n",
      "\n"
     ]
    },
    {
     "data": {
      "image/png": "[encoded data removed]",
      "text/plain": [
       "<Figure size 432x288 with 1 Axes>"
      ]
     },
     "metadata": {
      "needs_background": "light"
     },
     "output_type": "display_data"
    },
    {
     "name": "stdout",
     "output_type": "stream",
     "text": [
      "Export PDF : img/2_Weibull/var_n.pdf\n",
      "\n"
     ]
    },
    {
     "data": {
      "image/png": "[encoded data removed]",
      "text/plain": [
       "<Figure size 432x288 with 1 Axes>"
      ]
     },
     "metadata": {
      "needs_background": "light"
     },
     "output_type": "display_data"
    },
    {
     "name": "stdout",
     "output_type": "stream",
     "text": [
      "Export PDF : img/2_Weibull/var_t.pdf\n",
      "\n"
     ]
    },
    {
     "data": {
      "image/png": "[encoded data removed]",
      "text/plain": [
       "<Figure size 432x288 with 1 Axes>"
      ]
     },
     "metadata": {
      "needs_background": "light"
     },
     "output_type": "display_data"
    }
   ],
   "source": [
    "for column in ['lambda1', 'lambda2', 'k1', 'k2', 'n', 't']:\n",
    "    groupby = df_resul.groupby(by=column).mean()\n",
    "    \n",
    "    plt.scatter(groupby.index, groupby.proba)\n",
    "    plt.ylabel(\"proba\")\n",
    "    plt.xlabel(column)\n",
    "    pdf.export(f\"var_{column}\")\n",
    "    plt.show()"
   ]
  },
  {
   "cell_type": "markdown",
   "metadata": {},
   "source": [
    "### Comparaison de l'erreur pour les deux lois \n",
    "On décide de comparer les probabilités obtenus par deux simulations, l'une utilisant des lois exponentielle, la seconde des lois de Weibull. Pour pouvoir comparer les probabilités on utilise des lois avec des espérances similaires, mais des variances différentes.  \n",
    "On choisit d'avoir une variance plus faible pour la loi du temps de prise en charge.  "
   ]
  },
  {
   "cell_type": "code",
   "execution_count": 22,
   "metadata": {},
   "outputs": [],
   "source": [
    "from scipy.special import gamma, factorial"
   ]
  },
  {
   "cell_type": "code",
   "execution_count": 23,
   "metadata": {},
   "outputs": [],
   "source": [
    "def lambda_eq(lambda_,k):\n",
    "    return((lambda_*gamma(1+1/k)))"
   ]
  },
  {
   "cell_type": "code",
   "execution_count": 24,
   "metadata": {},
   "outputs": [
    {
     "name": "stdout",
     "output_type": "stream",
     "text": [
      "CPU times: user 720 ms, sys: 3.65 ms, total: 724 ms\n",
      "Wall time: 721 ms\n"
     ]
    },
    {
     "data": {
      "text/plain": [
       "0.447"
      ]
     },
     "execution_count": 24,
     "metadata": {},
     "output_type": "execute_result"
    }
   ],
   "source": [
    "%%time\n",
    "proba_N_simul_v0(0.5, 1, 1, 8, 6, 5, N_simul=1000, multiproc=False)"
   ]
  },
  {
   "cell_type": "code",
   "execution_count": 25,
   "metadata": {},
   "outputs": [
    {
     "name": "stdout",
     "output_type": "stream",
     "text": [
      "CPU times: user 722 ms, sys: 3.82 ms, total: 726 ms\n",
      "Wall time: 723 ms\n"
     ]
    },
    {
     "data": {
      "text/plain": [
       "0.439"
      ]
     },
     "execution_count": 25,
     "metadata": {},
     "output_type": "execute_result"
    }
   ],
   "source": [
    "%%time\n",
    "proba_N_simul_v0(0.5, lambda_eq(1,8), 1, 1, 6, 5, N_simul=1000, multiproc=False)"
   ]
  },
  {
   "cell_type": "markdown",
   "metadata": {},
   "source": [
    "Les probabilités étant similaires, on décide comparer également les intervalles de confiances pour les probabilités.  \n",
    "On réalise pour cela plusieurs estimations et on trace ensuite un boxplot des probabilités estimées."
   ]
  },
  {
   "cell_type": "code",
   "execution_count": 26,
   "metadata": {},
   "outputs": [
    {
     "data": {
      "application/vnd.jupyter.widget-view+json": {
       "model_id": "2b9fb353bcf64ebba4c0ea78b0a3ecc2",
       "version_major": 2,
       "version_minor": 0
      },
      "text/plain": [
       "  0%|          | 0/10000 [00:00<?, ?it/s]"
      ]
     },
     "metadata": {},
     "output_type": "display_data"
    }
   ],
   "source": [
    "nb = 10000\n",
    "if LOW_CPU:\n",
    "    nb = 400\n",
    "if not MULTIPROCESSING:\n",
    "    nb = 100\n",
    "\n",
    "def f_weibull(i):\n",
    "    return {\"proba\": proba_N_simul_v0(0.5, 1, 1, 8, 6, 5, N_simul=1000, multiproc=False),\n",
    "            \"méthode\": \"Weibull\"}\n",
    "if MULTIPROCESSING:\n",
    "    resultat_weibull = p_map(f_weibull, range(nb))\n",
    "else:\n",
    "    resultat_weibull = list(map(f_weibull, range(nb)))"
   ]
  },
  {
   "cell_type": "code",
   "execution_count": 27,
   "metadata": {},
   "outputs": [
    {
     "data": {
      "application/vnd.jupyter.widget-view+json": {
       "model_id": "f5ba222a83914c9c80c6c171d513cbdd",
       "version_major": 2,
       "version_minor": 0
      },
      "text/plain": [
       "  0%|          | 0/10000 [00:00<?, ?it/s]"
      ]
     },
     "metadata": {},
     "output_type": "display_data"
    }
   ],
   "source": [
    "def f_exp(i):\n",
    "    return {\"proba\": proba_N_simul_v0(0.5, lambda_eq(1,8), 1, 1, 6, 5, N_simul=1000, multiproc=False),\n",
    "            \"méthode\": \"Exp\"}\n",
    "if MULTIPROCESSING:\n",
    "    resultat_exp = p_map(f_exp, range(nb))\n",
    "else:\n",
    "    resultat_exp = list(map(f_exp, range(nb)))"
   ]
  },
  {
   "cell_type": "code",
   "execution_count": 28,
   "metadata": {},
   "outputs": [
    {
     "data": {
      "text/html": [
       "<div>\n",
       "<style scoped>\n",
       "    .dataframe tbody tr th:only-of-type {\n",
       "        vertical-align: middle;\n",
       "    }\n",
       "\n",
       "    .dataframe tbody tr th {\n",
       "        vertical-align: top;\n",
       "    }\n",
       "\n",
       "    .dataframe thead th {\n",
       "        text-align: right;\n",
       "    }\n",
       "</style>\n",
       "<table border=\"1\" class=\"dataframe\">\n",
       "  <thead>\n",
       "    <tr style=\"text-align: right;\">\n",
       "      <th></th>\n",
       "      <th>proba</th>\n",
       "      <th>méthode</th>\n",
       "    </tr>\n",
       "  </thead>\n",
       "  <tbody>\n",
       "    <tr>\n",
       "      <th>0</th>\n",
       "      <td>0.439</td>\n",
       "      <td>Weibull</td>\n",
       "    </tr>\n",
       "    <tr>\n",
       "      <th>1</th>\n",
       "      <td>0.441</td>\n",
       "      <td>Weibull</td>\n",
       "    </tr>\n",
       "    <tr>\n",
       "      <th>2</th>\n",
       "      <td>0.431</td>\n",
       "      <td>Weibull</td>\n",
       "    </tr>\n",
       "    <tr>\n",
       "      <th>3</th>\n",
       "      <td>0.487</td>\n",
       "      <td>Weibull</td>\n",
       "    </tr>\n",
       "    <tr>\n",
       "      <th>4</th>\n",
       "      <td>0.439</td>\n",
       "      <td>Weibull</td>\n",
       "    </tr>\n",
       "    <tr>\n",
       "      <th>...</th>\n",
       "      <td>...</td>\n",
       "      <td>...</td>\n",
       "    </tr>\n",
       "    <tr>\n",
       "      <th>19995</th>\n",
       "      <td>0.445</td>\n",
       "      <td>Exp</td>\n",
       "    </tr>\n",
       "    <tr>\n",
       "      <th>19996</th>\n",
       "      <td>0.418</td>\n",
       "      <td>Exp</td>\n",
       "    </tr>\n",
       "    <tr>\n",
       "      <th>19997</th>\n",
       "      <td>0.433</td>\n",
       "      <td>Exp</td>\n",
       "    </tr>\n",
       "    <tr>\n",
       "      <th>19998</th>\n",
       "      <td>0.437</td>\n",
       "      <td>Exp</td>\n",
       "    </tr>\n",
       "    <tr>\n",
       "      <th>19999</th>\n",
       "      <td>0.441</td>\n",
       "      <td>Exp</td>\n",
       "    </tr>\n",
       "  </tbody>\n",
       "</table>\n",
       "<p>20000 rows × 2 columns</p>\n",
       "</div>"
      ],
      "text/plain": [
       "       proba  méthode\n",
       "0      0.439  Weibull\n",
       "1      0.441  Weibull\n",
       "2      0.431  Weibull\n",
       "3      0.487  Weibull\n",
       "4      0.439  Weibull\n",
       "...      ...      ...\n",
       "19995  0.445      Exp\n",
       "19996  0.418      Exp\n",
       "19997  0.433      Exp\n",
       "19998  0.437      Exp\n",
       "19999  0.441      Exp\n",
       "\n",
       "[20000 rows x 2 columns]"
      ]
     },
     "execution_count": 28,
     "metadata": {},
     "output_type": "execute_result"
    }
   ],
   "source": [
    "df_prob = pd.DataFrame(resultat_weibull+resultat_exp)\n",
    "df_prob"
   ]
  },
  {
   "cell_type": "code",
   "execution_count": 29,
   "metadata": {},
   "outputs": [
    {
     "name": "stdout",
     "output_type": "stream",
     "text": [
      "Export PDF : img/2_Weibull/06.pdf\n",
      "\n"
     ]
    },
    {
     "data": {
      "image/png": "[encoded data removed]",
      "text/plain": [
       "<Figure size 432x288 with 1 Axes>"
      ]
     },
     "metadata": {
      "needs_background": "light"
     },
     "output_type": "display_data"
    }
   ],
   "source": [
    "sns.boxenplot(data=df_prob,x=\"méthode\",y=\"proba\")\n",
    "pdf.export()"
   ]
  },
  {
   "cell_type": "code",
   "execution_count": 30,
   "metadata": {},
   "outputs": [
    {
     "data": {
      "text/plain": [
       "count    10000.000000\n",
       "mean         0.451460\n",
       "std          0.015901\n",
       "min          0.387000\n",
       "25%          0.441000\n",
       "50%          0.452000\n",
       "75%          0.462000\n",
       "max          0.507000\n",
       "Name: proba, dtype: float64"
      ]
     },
     "execution_count": 30,
     "metadata": {},
     "output_type": "execute_result"
    }
   ],
   "source": [
    "df_prob[df_prob[\"méthode\"]==\"Weibull\"][\"proba\"].describe()"
   ]
  },
  {
   "cell_type": "code",
   "execution_count": 31,
   "metadata": {},
   "outputs": [
    {
     "data": {
      "text/plain": [
       "count    10000.000000\n",
       "mean         0.450896\n",
       "std          0.015843\n",
       "min          0.397000\n",
       "25%          0.440000\n",
       "50%          0.451000\n",
       "75%          0.462000\n",
       "max          0.513000\n",
       "Name: proba, dtype: float64"
      ]
     },
     "execution_count": 31,
     "metadata": {},
     "output_type": "execute_result"
    }
   ],
   "source": [
    "df_prob[df_prob[\"méthode\"]==\"Exp\"][\"proba\"].describe()"
   ]
  },
  {
   "cell_type": "code",
   "execution_count": 32,
   "metadata": {},
   "outputs": [
    {
     "name": "stdout",
     "output_type": "stream",
     "text": [
      "Temps d'exécution total : 00:28:47\n"
     ]
    }
   ],
   "source": [
    "print(f\"Temps d'exécution total : {time.strftime('%H:%M:%S', time.gmtime(time.time()-t))}\")"
   ]
  }
 ],
 "metadata": {
  "kernelspec": {
   "display_name": "Python 3",
   "language": "python",
   "name": "python3"
  },
  "language_info": {
   "codemirror_mode": {
    "name": "ipython",
    "version": 3
   },
   "file_extension": ".py",
   "mimetype": "text/x-python",
   "name": "python",
   "nbconvert_exporter": "python",
   "pygments_lexer": "ipython3",
   "version": "3.9.4"
  }
 },
 "nbformat": 4,
 "nbformat_minor": 4
}
